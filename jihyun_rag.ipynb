{
 "cells": [
  {
   "cell_type": "code",
   "execution_count": 7,
   "metadata": {
    "colab": {
     "base_uri": "https://localhost:8080/"
    },
    "collapsed": true,
    "executionInfo": {
     "elapsed": 42592,
     "status": "ok",
     "timestamp": 1729261369990,
     "user": {
      "displayName": "유지현",
      "userId": "01868051154728111847"
     },
     "user_tz": -540
    },
    "id": "zYQgKZlprwnF",
    "outputId": "892a1564-c02a-486d-8029-d790db21e728"
   },
   "outputs": [
    {
     "name": "stdout",
     "output_type": "stream",
     "text": [
      "Note: you may need to restart the kernel to use updated packages.\n"
     ]
    }
   ],
   "source": [
    "!pip install --quiet -U langchain langchain-openai\n",
    "%pip install --quiet --upgrade langchain langchain-community langchain-chroma\n"
   ]
  },
  {
   "cell_type": "code",
   "execution_count": 1,
   "metadata": {
    "colab": {
     "base_uri": "https://localhost:8080/"
    },
    "executionInfo": {
     "elapsed": 2536,
     "status": "ok",
     "timestamp": 1729261372518,
     "user": {
      "displayName": "유지현",
      "userId": "01868051154728111847"
     },
     "user_tz": -540
    },
    "id": "NSbgUxCIr0YY",
    "outputId": "1da637af-ac26-4255-f39b-44c71840362f"
   },
   "outputs": [
    {
     "name": "stdout",
     "output_type": "stream",
     "text": [
      "OpenAI API: sk-p********\n",
      "LangChain API Key: lsv2********\n"
     ]
    }
   ],
   "source": [
    "import os\n",
    "\n",
    "openai_api_key = os.getenv(\"OPENAI_API_KEY_1010\")\n",
    "langchain_api_key = os.getenv(\"LANGCHAIN_API_KEY\")\n",
    "\n",
    "print(f\"OpenAI API: {openai_api_key[:4]}********\")\n",
    "print(f\"LangChain API Key: {langchain_api_key[:4]}********\")\n",
    "\n",
    "os.environ[\"OPENAI_API_KEY\"] = openai_api_key\n",
    "os.environ[\"LANGCHAIN_PROJECT\"] = \"tech4impact_1010\"\n",
    "os.environ[\"LANGCHAIN_API_KEY\"] = langchain_api_key\n",
    "os.environ[\"LANGCHAIN_TRACING_V2\"] = \"true\"\n"
   ]
  },
  {
   "cell_type": "markdown",
   "metadata": {
    "id": "y83M8arbsJXm"
   },
   "source": [
    "LangSmith Setup (LLM Logging)\n"
   ]
  },
  {
   "cell_type": "code",
   "execution_count": 2,
   "metadata": {
    "colab": {
     "base_uri": "https://localhost:8080/"
    },
    "executionInfo": {
     "elapsed": 4016,
     "status": "ok",
     "timestamp": 1729261376523,
     "user": {
      "displayName": "유지현",
      "userId": "01868051154728111847"
     },
     "user_tz": -540
    },
    "id": "XKyEBNzq9F9n",
    "outputId": "9f0cc511-2df3-48cf-d0f1-eb8e2a64fccd"
   },
   "outputs": [
    {
     "data": {
      "text/plain": [
       "AIMessage(content='Hello! How can I assist you today?', additional_kwargs={'refusal': None}, response_metadata={'token_usage': {'completion_tokens': 9, 'prompt_tokens': 11, 'total_tokens': 20, 'completion_tokens_details': {'audio_tokens': None, 'reasoning_tokens': 0}, 'prompt_tokens_details': {'audio_tokens': None, 'cached_tokens': 0}}, 'model_name': 'gpt-3.5-turbo-0125', 'system_fingerprint': None, 'finish_reason': 'stop', 'logprobs': None}, id='run-65072623-2467-476d-b1c2-b1289c29387d-0', usage_metadata={'input_tokens': 11, 'output_tokens': 9, 'total_tokens': 20})"
      ]
     },
     "execution_count": 2,
     "metadata": {},
     "output_type": "execute_result"
    }
   ],
   "source": [
    "from langchain_openai import ChatOpenAI\n",
    "\n",
    "llm = ChatOpenAI()\n",
    "llm.invoke(\"Hello, world!\")"
   ]
  },
  {
   "cell_type": "markdown",
   "metadata": {
    "id": "3-MxNp0BxHde"
   },
   "source": [
    "Starts from now"
   ]
  },
  {
   "cell_type": "code",
   "execution_count": null,
   "metadata": {
    "executionInfo": {
     "elapsed": 411,
     "status": "ok",
     "timestamp": 1729263038728,
     "user": {
      "displayName": "유지현",
      "userId": "01868051154728111847"
     },
     "user_tz": -540
    },
    "id": "_XNUzGYHv8_t"
   },
   "outputs": [],
   "source": [
    "import os\n",
    "import json\n",
    "import getpass\n",
    "import logging \n",
    "# Set your OpenAI API key\n",
    "#os.environ[\"OPENAI_API_KEY\"] = getpass.getpass(\"Enter your OpenAI API key: \")\n",
    "from langchain.docstore.document import Document\n",
    "from langchain.text_splitter import RecursiveCharacterTextSplitter\n",
    "from langchain.embeddings import OpenAIEmbeddings\n",
    "from langchain.vectorstores import Chroma\n",
    "from langchain.llms import OpenAI\n",
    "from langchain.chat_models import ChatOpenAI\n",
    "\n",
    "    from langchain.prompts import PromptTemplate\n",
    "from langchain.chains import LLMChain\n",
    "\n",
    "from langchain.chains import create_retrieval_chain\n",
    "from langchain.chains.combine_documents import create_stuff_documents_chain\n",
    "from langchain_core.prompts import ChatPromptTemplate\n",
    "from langchain.chains import RetrievalQA\n",
    "\n"
   ]
  },
  {
   "cell_type": "code",
   "execution_count": 16,
   "metadata": {
    "colab": {
     "base_uri": "https://localhost:8080/"
    },
    "executionInfo": {
     "elapsed": 384,
     "status": "ok",
     "timestamp": 1729261489614,
     "user": {
      "displayName": "유지현",
      "userId": "01868051154728111847"
     },
     "user_tz": -540
    },
    "id": "U4H_5XiexsJR",
    "outputId": "eed29449-8112-4542-96f4-1e424ec3358b"
   },
   "outputs": [],
   "source": [
    "logging.basicConfig(level=logging.INFO, format='%(asctime)s - %(levelname)s - %(message)s')\n"
   ]
  },
  {
   "cell_type": "code",
   "execution_count": 17,
   "metadata": {
    "executionInfo": {
     "elapsed": 385,
     "status": "ok",
     "timestamp": 1729266747911,
     "user": {
      "displayName": "유지현",
      "userId": "01868051154728111847"
     },
     "user_tz": -540
    },
    "id": "HtokP9uDxP-O"
   },
   "outputs": [
    {
     "name": "stderr",
     "output_type": "stream",
     "text": [
      "2024-10-31 16:13:52,899 - INFO - 총 900개의 문서 생성.\n"
     ]
    }
   ],
   "source": [
    "def ms_to_minutes_seconds_str(milliseconds):\n",
    "    seconds = milliseconds // 1000  # 총 초\n",
    "    minutes = seconds // 60  # 분 계산\n",
    "    remaining_seconds = seconds % 60  # 남은 초 계산\n",
    "    return f\"{minutes}분 {remaining_seconds}초\"  # 출력 형식\n",
    "\n",
    "# 파일 \n",
    "with open('transcription.json', 'r', encoding='utf-8') as f:\n",
    "    data = json.load(f)\n",
    "\n",
    "utterances = data['utterances']\n",
    "\n",
    "# 발화를 Document 객체로 생성\n",
    "documents = []\n",
    "for utterance in utterances:\n",
    "    content = utterance['msg']\n",
    "    metadata = {\n",
    "        'start_at': utterance['start_at'],  # 밀리초 단위\n",
    "        'duration': utterance['duration'],   # 밀리초 단위\n",
    "        'speaker': utterance['spk'],\n",
    "        'speaker_type': utterance['spk_type']\n",
    "    }\n",
    "    documents.append(Document(page_content=content, metadata=metadata))\n",
    "logging.info(f\"총 {len(documents)}개의 문서 생성.\")\n",
    "\n",
    "# 시작 시간 기준으로 정렬\n",
    "documents = sorted(documents, key=lambda doc: doc.metadata['start_at'])\n"
   ]
  },
  {
   "cell_type": "code",
   "execution_count": null,
   "metadata": {
    "colab": {
     "base_uri": "https://localhost:8080/"
    },
    "executionInfo": {
     "elapsed": 7124,
     "status": "ok",
     "timestamp": 1729261501270,
     "user": {
      "displayName": "유지현",
      "userId": "01868051154728111847"
     },
     "user_tz": -540
    },
    "id": "pHkD49XIySAF",
    "outputId": "d6683768-f12c-4b9c-de33-a8d51f8a81dc"
   },
   "outputs": [
    {
     "name": "stderr",
     "output_type": "stream",
     "text": [
      "2024-10-31 16:13:59,063 - INFO - HTTP Request: POST https://api.openai.com/v1/embeddings \"HTTP/1.1 200 OK\"\n"
     ]
    }
   ],
   "source": [
    "full_text = ''\n",
    "for doc in documents:\n",
    "    start_time_str = ms_to_minutes_seconds_str(doc.metadata['start_at'])\n",
    "    full_text += f\"[{start_time_str}] {doc.page_content}\\n\"\n",
    "\n",
    "# 언어 모델 초기화 # mini 버전 써보기\n",
    "llm = ChatOpenAI(model_name=\"gpt-4o\", temperature=0)\n",
    "\n",
    "\n",
    "\n",
    "# 임베딩 및 벡터스토어 초기화\n",
    "embeddings = OpenAIEmbeddings()\n",
    "vectorstore = Chroma.from_documents(documents, embeddings, persist_directory=None)\n",
    "\n",
    "# 리트리버 \n",
    "retriever = vectorstore.as_retriever(search_kwargs={\"k\": 5})\n"
   ]
  },
  {
   "cell_type": "code",
   "execution_count": null,
   "metadata": {
    "executionInfo": {
     "elapsed": 18,
     "status": "ok",
     "timestamp": 1729261501271,
     "user": {
      "displayName": "유지현",
      "userId": "01868051154728111847"
     },
     "user_tz": -540
    },
    "id": "LHWEiuYDyTV5"
   },
   "outputs": [
    {
     "name": "stderr",
     "output_type": "stream",
     "text": [
      "C:\\Users\\yooji\\AppData\\Local\\Temp\\ipykernel_21700\\1209514253.py:46: LangChainDeprecationWarning: The method `Chain.__call__` was deprecated in langchain 0.1.0 and will be removed in 1.0. Use invoke instead.\n",
      "  response = rag_chain({\"query\": prompt.format(text=full_text)})\n",
      "2024-10-31 16:16:02,776 - INFO - HTTP Request: POST https://api.openai.com/v1/embeddings \"HTTP/1.1 200 OK\"\n",
      "2024-10-31 16:16:21,494 - INFO - HTTP Request: POST https://api.openai.com/v1/chat/completions \"HTTP/1.1 200 OK\"\n"
     ]
    },
    {
     "name": "stdout",
     "output_type": "stream",
     "text": [
      "=== Session Summary ===\n",
      "**0분 0초 ~ 1분 50초**\n",
      "- Q. 당뇨약을 줄이는 게 현실적인가요?\n",
      "\n",
      "**2분 5초 ~ 4분 7초**\n",
      "- [이렇게 하세요] 당뇨 수치가 안정되면 스테로이드 사용을 줄이세요.\n",
      "\n",
      "**5분 15초 ~ 6분 16초**\n",
      "- [이렇게 하세요] 근력 운동을 통해 근육량을 늘리세요.\n",
      "\n",
      "**7분 10초 ~ 8분 3초**\n",
      "- Q. 비염에 아연과 프로폴리스가 효과가 있나요?\n",
      "\n",
      "**10분 24초 ~ 11분 18초**\n",
      "- [이렇게 하세요] 피로 회복을 위해 비타민 B군을 강화하세요.\n",
      "\n",
      "**13분 20초 ~ 14분 5초**\n",
      "- Q. 눈이 감기고 무거운 느낌이 드는데, 어떻게 해야 하나요?\n",
      "\n",
      "**15분 8초 ~ 16분 26초**\n",
      "- [이렇게 하세요] 오메가 3를 복용하여 눈의 뻑뻑함을 줄이세요.\n",
      "\n",
      "**17분 8초 ~ 17분 28초**\n",
      "- Q. 식물성 오메가 3와 동물성 오메가 3의 차이는 무엇인가요?\n",
      "\n",
      "**18분 19초 ~ 19분 4초**\n",
      "- [이렇게 하세요] 피로의 원인을 찾고, 항산화제를 복용하세요.\n",
      "\n",
      "**20분 0초 ~ 20분 9초**\n",
      "- [이렇게 하세요] 하체 운동을 통해 하지정맥류를 예방하세요.\n",
      "\n",
      "**25분 28초 ~ 26분 25초**\n",
      "- [이렇게 하세요] 30대 후반부터는 종합비타민과 오메가 3를 복용하세요.\n",
      "\n",
      "**36분 22초 ~ 37분 0초**\n",
      "- Q. 오메가 3가 건강에 유익한가요?\n",
      "\n",
      "**40분 6초 ~ 41분 6초**\n",
      "- [이렇게 하세요] 비타민 D 결핍 여부를 검사하고, 필요시 보충하세요.\n",
      "\n",
      "**45분 8초 ~ 46분 8초**\n",
      "- Q. 비타민 C와 D를 함께 복용해도 되나요?\n",
      "\n",
      "**51분 8초 ~ 52분 3초**\n",
      "- Q. 간염 보균자로서 약 복용 시 주의할 점은 무엇인가요?\n",
      "\n",
      "**56분 5초 ~ 57분 0초**\n",
      "- [이렇게 하세요] 약 복용 간격을 24시간으로 유지하세요.\n",
      "\n",
      "**62분 22초 ~ 63분 15초**\n",
      "- Q. 한약이 간에 영향을 주나요?\n",
      "\n",
      "**66분 8초 ~ 67분 4초**\n",
      "- Q. 고지혈증 약을 끊어도 되나요?\n",
      "\n",
      "**70분 2초 ~ 71분 5초**\n",
      "- [이렇게 하세요] 감기 초기에는 비타민을 강화하세요.\n",
      "\n",
      "**74분 2초 ~ 75분 11초**\n",
      "- Q. 타이레놀을 자주 복용해도 되나요?\n",
      "\n",
      "**77분 20초 ~ 78분 30초**\n",
      "- Q. 일본에서 받은 위장약이 효과가 있나요?\n",
      "\n",
      "**80분 12초 ~ 81분 0초**\n",
      "- [이렇게 하세요] 유산균을 꾸준히 복용하세요.\n",
      "\n",
      "**84분 3초 ~ 84분 38초**\n",
      "- [이렇게 하세요] 고지혈증 검사를 통해 약 복용 여부를 결정하세요.\n",
      "\n",
      "**89분 7초 ~ 90분 5초**\n",
      "- [이렇게 하세요] 저녁 식사를 간단히 하고, 탄수화물을 줄이세요.\n",
      "\n",
      "**92분 4초 ~ 92분 56초**\n",
      "- [이렇게 하세요] 저녁에 탄수화물을 줄이고, 숙면을 취하세요.\n",
      "\n",
      "**95분 1초 ~ 95분 43초**\n",
      "- [이렇게 하세요] 잠이 오지 않을 때는 눈을 감고 휴식을 취하세요.\n",
      "\n",
      "**98분 3초 ~ 99분 8초**\n",
      "- [이렇게 하세요] 영양제를 제공할 때는 맞춤형으로 제공하세요.\n",
      "\n",
      "**104분 3초 ~ 104분 12초**\n",
      "- Q. 피로할 때 어떤 영양제를 먹어야 하나요?\n",
      "\n",
      "**110분 1초 ~ 110분 19초**\n",
      "- [이렇게 하세요] 피로할 때 아르기닌을 복용하세요.\n",
      "\n",
      "**112분 1초 ~ 113분 11초**\n",
      "- [이렇게 하세요] 오메가 3를 복용하여 호르몬 균형을 유지하세요.\n",
      "\n",
      "=== Source Documents ===\n",
      "Source: 잘 안 먹잖아요, 예 그러다 보니까 부족해지는 거를 영양제로 먹는다 이렇게 보시면 되고 그게 그래도 그 오메가 3 가 유익하다는 자료가 제 생각엔 더 많습니다.\n",
      "\n",
      "Source: 잘 안 먹잖아요, 예 그러다 보니까 부족해지는 거를 영양제로 먹는다 이렇게 보시면 되고 그게 그래도 그 오메가 3 가 유익하다는 자료가 제 생각엔 더 많습니다.\n",
      "\n",
      "Source: 근데 그거 하나만 드시는 게 나은지 않, 다른 약도 좀 드셔야 되는 영대도 드셔야 되는 주로 이제 30 대 후반으로 가 저는 그걸 기준으로 보면 이제 그때부터는 이제 종합비타민이랑 오메가 3는.\n",
      "\n",
      "Source: 근데 그거 하나만 드시는 게 나은지 않, 다른 약도 좀 드셔야 되는 영대도 드셔야 되는 주로 이제 30 대 후반으로 가 저는 그걸 기준으로 보면 이제 그때부터는 이제 종합비타민이랑 오메가 3는.\n",
      "\n",
      "Source: 그러니까 더 강하냐, 이렇게 내성이 생기 와이프도 약을 잘 안 먹으니까 약게 먹어도 효과가 판이 나는 것 같고.\n",
      "\n"
     ]
    }
   ],
   "source": [
    "import re\n",
    "# 역할 지정해서 돌려보기\n",
    "#role description\n",
    "#확정은 결과물 가지고 펠로우님이랑 이야기\n",
    "#chunk 늘려보기..\n",
    "prompt = \"\"\"\n",
    "        당신은 전문적인 상담 세션을 분석하고 요약하는 AI입니다. 아래 상담 세션의 전체 스크립트를 주제별로 시간 순서에 따라 요약해 주세요. 다음 지침을 반드시 따르세요:\n",
    "        \n",
    "        1. 각 시간 구간은 **하나의 주요 질문** 또는 **하나의 주요 조언**으로 구성합니다. 하나의 구간에 여러 주제가 섞이지 않도록 주의해 주세요.\n",
    "        2. 각 주제에 대해 시작 시간과 종료 시간을 명시합니다. 시작 시간은 해당 주제가 스크립트에서 처음 등장한 시점, 종료 시간은 마지막으로 등장한 시점을 기준으로 합니다.\n",
    "        3. 각 요약은 다음 형식 중 **하나**로 작성합니다:\n",
    "           - 질문인 경우: **Q.**으로 시작하여 질문 내용을 요약합니다.\n",
    "           - 행동 변경이 필요한 경우: **[바꾸세요]**로 시작하여 변경이 필요한 행동을 요약합니다.\n",
    "           - 권장 사항인 경우: **[이렇게 하세요]**로 시작하여 권장 사항을 요약합니다.\n",
    "        \n",
    "        **답변 예시:**\n",
    "        **0분 42초 ~ 3분 15초**\n",
    "        - Q. 오메가3 가 정말 유익한 거 맞나요?\n",
    "        \n",
    "        **5분 0초 ~ 7분 30초**\n",
    "        - [바꾸세요] 당뇨 약은 중단하지 마세요.\n",
    "        \n",
    "        **10분 15초 ~ 12분 45초**\n",
    "        - [이렇게 하세요] 약 복용을 지속하세요.\n",
    "        \n",
    "        **스크립트:**\n",
    "        {text}\n",
    "        \n",
    "        **요약:**\n",
    "\"\"\"\n",
    "\n",
    "human_prompt = PromptTemplate(\n",
    "    input_variables=[],\n",
    "    template=\"요약:\"\n",
    ")\n",
    "\n",
    "\n",
    "rag_chain = RetrievalQA.from_chain_type(\n",
    "            llm=llm,\n",
    "            chain_type=\"stuff\",  # 또는 \"map_reduce\" 등 필요에 따라 변경 가능\n",
    "            retriever=retriever,\n",
    "            return_source_documents=True\n",
    "        )\n",
    "\n",
    "# 전체 스크립트 요약 \n",
    "response = rag_chain({\"query\": prompt.format(text=full_text)})\n",
    "session_summary = response[\"result\"]\n",
    "source_documents = response[\"source_documents\"]\n",
    "\n",
    "print(\"=== Session Summary ===\")\n",
    "print(session_summary)\n",
    "# print(\"\\n=== Source Documents ===\")\n",
    "# for doc in source_documents:\n",
    "#     print(f\"Source: {doc.page_content}\\n\")\n"
   ]
  },
  {
   "cell_type": "code",
   "execution_count": 28,
   "metadata": {
    "colab": {
     "base_uri": "https://localhost:8080/"
    },
    "executionInfo": {
     "elapsed": 17465,
     "status": "ok",
     "timestamp": 1729266175924,
     "user": {
      "displayName": "유지현",
      "userId": "01868051154728111847"
     },
     "user_tz": -540
    },
    "id": "KV1HpymlylqA",
    "outputId": "cfe16ae5-7192-402c-9243-530d32f5b27d"
   },
   "outputs": [
    {
     "name": "stdout",
     "output_type": "stream",
     "text": [
      "[('0분 0초', '1분 50초', 'Q. 당뇨약을 줄이는 게 현실적인가요?\\n'), ('2분 5초', '4분 7초', '[이렇게 하세요] 당뇨 수치가 안정되면 스테로이드 사용을 줄이세요.\\n'), ('5분 15초', '6분 16초', '[이렇게 하세요] 근력 운동을 통해 근육량을 늘리세요.\\n'), ('7분 10초', '8분 3초', 'Q. 비염에 아연과 프로폴리스가 효과가 있나요?\\n'), ('10분 24초', '11분 18초', '[이렇게 하세요] 피로 회복을 위해 비타민 B군을 강화하세요.\\n'), ('13분 20초', '14분 5초', 'Q. 눈이 감기고 무거운 느낌이 드는데, 어떻게 해야 하나요?\\n'), ('15분 8초', '16분 26초', '[이렇게 하세요] 오메가 3를 복용하여 눈의 뻑뻑함을 줄이세요.\\n'), ('17분 8초', '17분 28초', 'Q. 식물성 오메가 3와 동물성 오메가 3의 차이는 무엇인가요?\\n'), ('18분 19초', '19분 4초', '[이렇게 하세요] 피로의 원인을 찾고, 항산화제를 복용하세요.\\n'), ('20분 0초', '20분 9초', '[이렇게 하세요] 하체 운동을 통해 하지정맥류를 예방하세요.\\n'), ('25분 28초', '26분 25초', '[이렇게 하세요] 30대 후반부터는 종합비타민과 오메가 3를 복용하세요.\\n'), ('36분 22초', '37분 0초', 'Q. 오메가 3가 건강에 유익한가요?\\n'), ('40분 6초', '41분 6초', '[이렇게 하세요] 비타민 D 결핍 여부를 검사하고, 필요시 보충하세요.\\n'), ('45분 8초', '46분 8초', 'Q. 비타민 C와 D를 함께 복용해도 되나요?\\n'), ('51분 8초', '52분 3초', 'Q. 간염 보균자로서 약 복용 시 주의할 점은 무엇인가요?\\n'), ('56분 5초', '57분 0초', '[이렇게 하세요] 약 복용 간격을 24시간으로 유지하세요.\\n'), ('62분 22초', '63분 15초', 'Q. 한약이 간에 영향을 주나요?\\n'), ('66분 8초', '67분 4초', 'Q. 고지혈증 약을 끊어도 되나요?\\n'), ('70분 2초', '71분 5초', '[이렇게 하세요] 감기 초기에는 비타민을 강화하세요.\\n'), ('74분 2초', '75분 11초', 'Q. 타이레놀을 자주 복용해도 되나요?\\n'), ('77분 20초', '78분 30초', 'Q. 일본에서 받은 위장약이 효과가 있나요?\\n'), ('80분 12초', '81분 0초', '[이렇게 하세요] 유산균을 꾸준히 복용하세요.\\n'), ('84분 3초', '84분 38초', '[이렇게 하세요] 고지혈증 검사를 통해 약 복용 여부를 결정하세요.\\n'), ('89분 7초', '90분 5초', '[이렇게 하세요] 저녁 식사를 간단히 하고, 탄수화물을 줄이세요.\\n'), ('92분 4초', '92분 56초', '[이렇게 하세요] 저녁에 탄수화물을 줄이고, 숙면을 취하세요.\\n'), ('95분 1초', '95분 43초', '[이렇게 하세요] 잠이 오지 않을 때는 눈을 감고 휴식을 취하세요.\\n'), ('98분 3초', '99분 8초', '[이렇게 하세요] 영양제를 제공할 때는 맞춤형으로 제공하세요.\\n'), ('104분 3초', '104분 12초', 'Q. 피로할 때 어떤 영양제를 먹어야 하나요?\\n'), ('110분 1초', '110분 19초', '[이렇게 하세요] 피로할 때 아르기닌을 복용하세요.\\n'), ('112분 1초', '113분 11초', '[이렇게 하세요] 오메가 3를 복용하여 호르몬 균형을 유지하세요.')]\n"
     ]
    }
   ],
   "source": [
    "# 출력 파싱, 주제와 시간 정보 추출\n",
    "subtopics = re.findall(r'\\*\\*(\\d+분 \\d+초) ~ (\\d+분 \\d+초)\\*\\*\\n- (.+?)(?=\\n\\*\\*\\d+분|\\Z)', session_summary, re.DOTALL)\n",
    "\n",
    "print(subtopics)\n"
   ]
  },
  {
   "cell_type": "code",
   "execution_count": 30,
   "metadata": {
    "executionInfo": {
     "elapsed": 445,
     "status": "ok",
     "timestamp": 1729266336389,
     "user": {
      "displayName": "유지현",
      "userId": "01868051154728111847"
     },
     "user_tz": -540
    },
    "id": "XlwiQtK1yqwv"
   },
   "outputs": [
    {
     "name": "stderr",
     "output_type": "stream",
     "text": [
      "2024-10-31 16:27:25,807 - INFO - HTTP Request: POST https://api.openai.com/v1/embeddings \"HTTP/1.1 200 OK\"\n",
      "2024-10-31 16:27:26,259 - INFO - HTTP Request: POST https://api.openai.com/v1/embeddings \"HTTP/1.1 200 OK\"\n",
      "2024-10-31 16:27:26,589 - INFO - HTTP Request: POST https://api.openai.com/v1/embeddings \"HTTP/1.1 200 OK\"\n",
      "2024-10-31 16:27:26,995 - INFO - HTTP Request: POST https://api.openai.com/v1/embeddings \"HTTP/1.1 200 OK\"\n",
      "2024-10-31 16:27:27,325 - INFO - HTTP Request: POST https://api.openai.com/v1/embeddings \"HTTP/1.1 200 OK\"\n",
      "2024-10-31 16:27:27,650 - INFO - HTTP Request: POST https://api.openai.com/v1/embeddings \"HTTP/1.1 200 OK\"\n",
      "2024-10-31 16:27:27,989 - INFO - HTTP Request: POST https://api.openai.com/v1/embeddings \"HTTP/1.1 200 OK\"\n",
      "2024-10-31 16:27:30,414 - INFO - HTTP Request: POST https://api.openai.com/v1/embeddings \"HTTP/1.1 200 OK\"\n",
      "2024-10-31 16:27:30,920 - INFO - HTTP Request: POST https://api.openai.com/v1/embeddings \"HTTP/1.1 200 OK\"\n",
      "2024-10-31 16:27:31,227 - INFO - HTTP Request: POST https://api.openai.com/v1/embeddings \"HTTP/1.1 200 OK\"\n",
      "2024-10-31 16:27:31,554 - INFO - HTTP Request: POST https://api.openai.com/v1/embeddings \"HTTP/1.1 200 OK\"\n",
      "2024-10-31 16:27:32,204 - INFO - HTTP Request: POST https://api.openai.com/v1/embeddings \"HTTP/1.1 200 OK\"\n",
      "2024-10-31 16:27:32,540 - INFO - HTTP Request: POST https://api.openai.com/v1/embeddings \"HTTP/1.1 200 OK\"\n",
      "2024-10-31 16:27:33,225 - INFO - HTTP Request: POST https://api.openai.com/v1/embeddings \"HTTP/1.1 200 OK\"\n",
      "2024-10-31 16:27:35,078 - INFO - HTTP Request: POST https://api.openai.com/v1/embeddings \"HTTP/1.1 200 OK\"\n",
      "2024-10-31 16:27:35,367 - INFO - HTTP Request: POST https://api.openai.com/v1/embeddings \"HTTP/1.1 200 OK\"\n",
      "2024-10-31 16:27:35,789 - INFO - HTTP Request: POST https://api.openai.com/v1/embeddings \"HTTP/1.1 200 OK\"\n",
      "2024-10-31 16:27:36,129 - INFO - HTTP Request: POST https://api.openai.com/v1/embeddings \"HTTP/1.1 200 OK\"\n",
      "2024-10-31 16:27:36,560 - INFO - HTTP Request: POST https://api.openai.com/v1/embeddings \"HTTP/1.1 200 OK\"\n",
      "2024-10-31 16:27:36,857 - INFO - HTTP Request: POST https://api.openai.com/v1/embeddings \"HTTP/1.1 200 OK\"\n",
      "2024-10-31 16:27:37,191 - INFO - HTTP Request: POST https://api.openai.com/v1/embeddings \"HTTP/1.1 200 OK\"\n",
      "2024-10-31 16:27:37,794 - INFO - HTTP Request: POST https://api.openai.com/v1/embeddings \"HTTP/1.1 200 OK\"\n",
      "2024-10-31 16:27:38,095 - INFO - HTTP Request: POST https://api.openai.com/v1/embeddings \"HTTP/1.1 200 OK\"\n",
      "2024-10-31 16:27:38,533 - INFO - HTTP Request: POST https://api.openai.com/v1/embeddings \"HTTP/1.1 200 OK\"\n",
      "2024-10-31 16:27:38,854 - INFO - HTTP Request: POST https://api.openai.com/v1/embeddings \"HTTP/1.1 200 OK\"\n",
      "2024-10-31 16:27:39,329 - INFO - HTTP Request: POST https://api.openai.com/v1/embeddings \"HTTP/1.1 200 OK\"\n",
      "2024-10-31 16:27:39,946 - INFO - HTTP Request: POST https://api.openai.com/v1/embeddings \"HTTP/1.1 200 OK\"\n",
      "2024-10-31 16:27:40,438 - INFO - HTTP Request: POST https://api.openai.com/v1/embeddings \"HTTP/1.1 200 OK\"\n",
      "2024-10-31 16:27:40,726 - INFO - HTTP Request: POST https://api.openai.com/v1/embeddings \"HTTP/1.1 200 OK\"\n",
      "2024-10-31 16:27:41,054 - INFO - HTTP Request: POST https://api.openai.com/v1/embeddings \"HTTP/1.1 200 OK\"\n"
     ]
    },
    {
     "name": "stdout",
     "output_type": "stream",
     "text": [
      "[{'topic_id': 1, 'start_time': '0분 0초', 'end_time': '1분 50초', 'content': 'Q. 당뇨약을 줄이는 게 현실적인가요?', 'related_scripts': [{'time': '1분 24초', 'content': '그래서 사실 당뇨약을 줄이는 게 제일 현실적인 것 같아요. 이게 뭔가? 그래서 그만큼 지금 이 약을.'}, {'time': '1분 24초', 'content': '그래서 사실 당뇨약을 줄이는 게 제일 현실적인 것 같아요. 이게 뭔가? 그래서 그만큼 지금 이 약을.'}]}, {'topic_id': 2, 'start_time': '2분 5초', 'end_time': '4분 7초', 'content': '[이렇게 하세요] 당뇨 수치가 안정되면 스테로이드 사용을 줄이세요.', 'related_scripts': [{'time': '3분 31초', 'content': '그래가지고 스테로이드를 쓰면은 좀 문제가 있다.'}, {'time': '3분 31초', 'content': '그래가지고 스테로이드를 쓰면은 좀 문제가 있다.'}, {'time': '2분 28초', 'content': '그 맨 처음에 이제 스트레이드 조사서 맞았는데 방뇨 수치가 되게 올라간다.'}, {'time': '2분 28초', 'content': '그 맨 처음에 이제 스트레이드 조사서 맞았는데 방뇨 수치가 되게 올라간다.'}]}, {'topic_id': 3, 'start_time': '5분 15초', 'end_time': '6분 16초', 'content': '[이렇게 하세요] 근력 운동을 통해 근육량을 늘리세요.', 'related_scripts': [{'time': '5분 15초', 'content': '그리고 당뇨 관리는 사실 장기적으로 봤을 때 근육량의 싸움입니다. 예, 그래서 꼭 근력 운동을 해주셔야 돼요.'}, {'time': '5분 15초', 'content': '그리고 당뇨 관리는 사실 장기적으로 봤을 때 근육량의 싸움입니다. 예, 그래서 꼭 근력 운동을 해주셔야 돼요.'}]}, {'topic_id': 4, 'start_time': '7분 10초', 'end_time': '8분 3초', 'content': 'Q. 비염에 아연과 프로폴리스가 효과가 있나요?', 'related_scripts': [{'time': '7분 36초', 'content': '그래서 제가 비염, 그 프로폴릿 이거 아연 비염이 좋다고 해서 못 봤는데 효과가 있는지 모르겠어요.'}, {'time': '7분 36초', 'content': '그래서 제가 비염, 그 프로폴릿 이거 아연 비염이 좋다고 해서 못 봤는데 효과가 있는지 모르겠어요.'}]}, {'topic_id': 5, 'start_time': '10분 24초', 'end_time': '11분 18초', 'content': '[이렇게 하세요] 피로 회복을 위해 비타민 B군을 강화하세요.', 'related_scripts': []}, {'topic_id': 6, 'start_time': '13분 20초', 'end_time': '14분 5초', 'content': 'Q. 눈이 감기고 무거운 느낌이 드는데, 어떻게 해야 하나요?', 'related_scripts': [{'time': '13분 49초', 'content': '혹 눈에 좋은 영향도 좋죠. 눈이 어떤 식으로 불편하세요? 그냥 눈 이렇게 감긴 무거운 느낌.'}, {'time': '13분 49초', 'content': '혹 눈에 좋은 영향도 좋죠. 눈이 어떤 식으로 불편하세요? 그냥 눈 이렇게 감긴 무거운 느낌.'}]}, {'topic_id': 7, 'start_time': '15분 8초', 'end_time': '16분 26초', 'content': '[이렇게 하세요] 오메가 3를 복용하여 눈의 뻑뻑함을 줄이세요.', 'related_scripts': [{'time': '15분 8초', 'content': '그래서 이걸 오메라쓰리 를 드시면 조금 더 이런 눈에 뻑뻑함도 줄어드실 거고, 혹시나 생리불신이 있다거나 이럴 때도 오메라쓰리 가 도움이 되거든요.'}, {'time': '15분 8초', 'content': '그래서 이걸 오메라쓰리 를 드시면 조금 더 이런 눈에 뻑뻑함도 줄어드실 거고, 혹시나 생리불신이 있다거나 이럴 때도 오메라쓰리 가 도움이 되거든요.'}]}, {'topic_id': 8, 'start_time': '17분 8초', 'end_time': '17분 28초', 'content': 'Q. 식물성 오메가 3와 동물성 오메가 3의 차이는 무엇인가요?', 'related_scripts': []}, {'topic_id': 9, 'start_time': '18분 19초', 'end_time': '19분 4초', 'content': '[이렇게 하세요] 피로의 원인을 찾고, 항산화제를 복용하세요.', 'related_scripts': []}, {'topic_id': 10, 'start_time': '20분 0초', 'end_time': '20분 9초', 'content': '[이렇게 하세요] 하체 운동을 통해 하지정맥류를 예방하세요.', 'related_scripts': [{'time': '20분 0초', 'content': '근데 정말 그냥 하체 운동, 특히 막 스쿼트 같이 엉덩이랑 다리 근육 강화가 되면 확실히 통증도 덜하고 하더라고요.'}, {'time': '20분 0초', 'content': '근데 정말 그냥 하체 운동, 특히 막 스쿼트 같이 엉덩이랑 다리 근육 강화가 되면 확실히 통증도 덜하고 하더라고요.'}]}, {'topic_id': 11, 'start_time': '25분 28초', 'end_time': '26분 25초', 'content': '[이렇게 하세요] 30대 후반부터는 종합비타민과 오메가 3를 복용하세요.', 'related_scripts': [{'time': '25분 36초', 'content': '근데 그거 하나만 드시는 게 나은지 않, 다른 약도 좀 드셔야 되는 영대도 드셔야 되는 주로 이제 30 대 후반으로 가 저는 그걸 기준으로 보면 이제 그때부터는 이제 종합비타민이랑 오메가 3는.'}, {'time': '25분 36초', 'content': '근데 그거 하나만 드시는 게 나은지 않, 다른 약도 좀 드셔야 되는 영대도 드셔야 되는 주로 이제 30 대 후반으로 가 저는 그걸 기준으로 보면 이제 그때부터는 이제 종합비타민이랑 오메가 3는.'}, {'time': '25분 53초', 'content': '드시는 게 좋다 말씀을 드려요. 예, 그래서 종합비타민은 오메가 3는 절대 안 들어 있거든요.'}]}, {'topic_id': 12, 'start_time': '36분 22초', 'end_time': '37분 0초', 'content': 'Q. 오메가 3가 건강에 유익한가요?', 'related_scripts': []}, {'topic_id': 13, 'start_time': '40분 6초', 'end_time': '41분 6초', 'content': '[이렇게 하세요] 비타민 D 결핍 여부를 검사하고, 필요시 보충하세요.', 'related_scripts': [{'time': '40분 40초', 'content': '비타민 D는 사실 결핍인지 아닌지도 혈액 검사로 간단히 나오기 때문에 검사를 종합검진할 때 한번 그 수치를 같이 보고 싶다.'}, {'time': '40분 40초', 'content': '비타민 D는 사실 결핍인지 아닌지도 혈액 검사로 간단히 나오기 때문에 검사를 종합검진할 때 한번 그 수치를 같이 보고 싶다.'}, {'time': '40분 53초', 'content': '그래서 그걸 해보시면 결핍으로 나오면 이제 조금 더 고압량에 비타민 D 5000 이렇게 먹어야 되고.'}, {'time': '40분 53초', 'content': '그래서 그걸 해보시면 결핍으로 나오면 이제 조금 더 고압량에 비타민 D 5000 이렇게 먹어야 되고.'}]}, {'topic_id': 14, 'start_time': '45분 8초', 'end_time': '46분 8초', 'content': 'Q. 비타민 C와 D를 함께 복용해도 되나요?', 'related_scripts': []}, {'topic_id': 15, 'start_time': '51분 8초', 'end_time': '52분 3초', 'content': 'Q. 간염 보균자로서 약 복용 시 주의할 점은 무엇인가요?', 'related_scripts': [{'time': '51분 31초', 'content': '근데 이 약을 먹으면은 어떤 부작용들이 좀 있는 건지, 제가 뭘 좀 조심을 해야 되는 건지.'}, {'time': '51분 31초', 'content': '근데 이 약을 먹으면은 어떤 부작용들이 좀 있는 건지, 제가 뭘 좀 조심을 해야 되는 건지.'}]}, {'topic_id': 16, 'start_time': '56분 5초', 'end_time': '57분 0초', 'content': '[이렇게 하세요] 약 복용 간격을 24시간으로 유지하세요.', 'related_scripts': [{'time': '56분 33초', 'content': '간격을 유지하는 게. 그래서 이게 이 약이 우리 몸에 계속 작용을 하고 있어야 이제 억제를 한단 말이에요.'}, {'time': '56분 33초', 'content': '간격을 유지하는 게. 그래서 이게 이 약이 우리 몸에 계속 작용을 하고 있어야 이제 억제를 한단 말이에요.'}]}, {'topic_id': 17, 'start_time': '62분 22초', 'end_time': '63분 15초', 'content': 'Q. 한약이 간에 영향을 주나요?', 'related_scripts': [{'time': '62분 22초', 'content': '그 마지막으로 한 가지만 더 그러니까 그 보통 간에 그니까 그 일반적으로 알려진 그 지식 중의 하나가 한약이나 아니면 이제 한의원에서 처방받는 그런 약재들이 간에 좀 영향을 많이 준다라고 이제 실제로 그런가요, 아니면?'}, {'time': '62분 22초', 'content': '그 마지막으로 한 가지만 더 그러니까 그 보통 간에 그니까 그 일반적으로 알려진 그 지식 중의 하나가 한약이나 아니면 이제 한의원에서 처방받는 그런 약재들이 간에 좀 영향을 많이 준다라고 이제 실제로 그런가요, 아니면?'}]}, {'topic_id': 18, 'start_time': '66분 8초', 'end_time': '67분 4초', 'content': 'Q. 고지혈증 약을 끊어도 되나요?', 'related_scripts': [{'time': '66분 8초', 'content': '예, 보내주신 거는 미리 읽어보고 아는데요, 고지혈증 약만 드시고 계신 거죠.'}, {'time': '66분 8초', 'content': '예, 보내주신 거는 미리 읽어보고 아는데요, 고지혈증 약만 드시고 계신 거죠.'}]}, {'topic_id': 19, 'start_time': '70분 2초', 'end_time': '71분 5초', 'content': '[이렇게 하세요] 감기 초기에는 비타민을 강화하세요.', 'related_scripts': [{'time': '70분 55초', 'content': '그때 이제 비타민을 좀 세게 먹는다거나, 그래서 이제 우리 몸에 그런 그 면역을 좀 그쪽에 힘을 실어주면 좀 이겨나게.'}]}, {'topic_id': 20, 'start_time': '74분 2초', 'end_time': '75분 11초', 'content': 'Q. 타이레놀을 자주 복용해도 되나요?', 'related_scripts': []}, {'topic_id': 21, 'start_time': '77분 20초', 'end_time': '78분 30초', 'content': 'Q. 일본에서 받은 위장약이 효과가 있나요?', 'related_scripts': []}, {'topic_id': 22, 'start_time': '80분 12초', 'end_time': '81분 0초', 'content': '[이렇게 하세요] 유산균을 꾸준히 복용하세요.', 'related_scripts': []}, {'topic_id': 23, 'start_time': '84분 3초', 'end_time': '84분 38초', 'content': '[이렇게 하세요] 고지혈증 검사를 통해 약 복용 여부를 결정하세요.', 'related_scripts': []}, {'topic_id': 24, 'start_time': '89분 7초', 'end_time': '90분 5초', 'content': '[이렇게 하세요] 저녁 식사를 간단히 하고, 탄수화물을 줄이세요.', 'related_scripts': []}, {'topic_id': 25, 'start_time': '92분 4초', 'end_time': '92분 56초', 'content': '[이렇게 하세요] 저녁에 탄수화물을 줄이고, 숙면을 취하세요.', 'related_scripts': [{'time': '92분 8초', 'content': '예를 들어 이제 저녁에 약속이 있거나 해서 조금 더 탄수화물 위주의 식사를 한다.'}, {'time': '92분 8초', 'content': '예를 들어 이제 저녁에 약속이 있거나 해서 조금 더 탄수화물 위주의 식사를 한다.'}, {'time': '92분 50초', 'content': '그걸 차라리 배불리 드셔도 좋은 게 탄수함물, 좀 더 줄이면 숙면에 도움이 되실 거예요.'}, {'time': '92분 50초', 'content': '그걸 차라리 배불리 드셔도 좋은 게 탄수함물, 좀 더 줄이면 숙면에 도움이 되실 거예요.'}, {'time': '92분 28초', 'content': '그래서 전 바로 전 식사가 조금 곧 탄수화물일 때 조금 더 수면의 질이 낮아지기도 하거든요.'}]}, {'topic_id': 26, 'start_time': '95분 1초', 'end_time': '95분 43초', 'content': '[이렇게 하세요] 잠이 오지 않을 때는 눈을 감고 휴식을 취하세요.', 'related_scripts': [{'time': '95분 28초', 'content': '그냥 이렇게 그럴 때로 잠이 안 오 다 누워서 이렇게 하다 보면 잠이 오긴 오죠. 그렇죠, 오죠.'}, {'time': '95분 28초', 'content': '그냥 이렇게 그럴 때로 잠이 안 오 다 누워서 이렇게 하다 보면 잠이 오긴 오죠. 그렇죠, 오죠.'}]}, {'topic_id': 27, 'start_time': '98분 3초', 'end_time': '99분 8초', 'content': '[이렇게 하세요] 영양제를 제공할 때는 맞춤형으로 제공하세요.', 'related_scripts': [{'time': '98분 43초', 'content': '차원에서는 영양제를 주로 그럴 때는 반짝하는 영양제를. 뿌리게 마련이죠.'}]}, {'topic_id': 28, 'start_time': '104분 3초', 'end_time': '104분 12초', 'content': 'Q. 피로할 때 어떤 영양제를 먹어야 하나요?', 'related_scripts': []}, {'topic_id': 29, 'start_time': '110분 1초', 'end_time': '110분 19초', 'content': '[이렇게 하세요] 피로할 때 아르기닌을 복용하세요.', 'related_scripts': []}, {'topic_id': 30, 'start_time': '112분 1초', 'end_time': '113분 11초', 'content': '[이렇게 하세요] 오메가 3를 복용하여 호르몬 균형을 유지하세요.', 'related_scripts': []}]\n"
     ]
    }
   ],
   "source": [
    "def time_str_to_ms(time_str):\n",
    "    match = re.match(r'(\\d+)분 (\\d+)초', time_str)\n",
    "    if match:\n",
    "        minutes = int(match.group(1))\n",
    "        seconds = int(match.group(2))\n",
    "        return (minutes * 60 + seconds) * 1000\n",
    "    else:\n",
    "        logging.warning(f\"시간 형식이 일치하지 않습니다: {time_str}\")\n",
    "        return 0\n",
    "    \n",
    "json_results = []\n",
    "        \n",
    "        # 주제별 루프 처리\n",
    "for idx, (start_time_str, end_time_str, content) in enumerate(subtopics, 1):\n",
    "    subtopic = content.strip()\n",
    "    start_time_ms = time_str_to_ms(start_time_str)\n",
    "    end_time_ms = time_str_to_ms(end_time_str)\n",
    "    \n",
    "    # 해당 시간 범위 내에서 retrieve\n",
    "    retrieved_docs = retriever.get_relevant_documents(subtopic)\n",
    "    \n",
    "    relevant_docs = [\n",
    "        doc for doc in retrieved_docs\n",
    "        if start_time_ms <= doc.metadata['start_at'] <= end_time_ms\n",
    "    ]\n",
    "    \n",
    "    # 관련 스크립트 생성\n",
    "    related_scripts = [\n",
    "        {\n",
    "            \"time\": ms_to_minutes_seconds_str(doc.metadata['start_at']),\n",
    "            \"content\": doc.page_content\n",
    "        } for doc in relevant_docs\n",
    "    ]\n",
    "    \n",
    "    # 주제별 데이터를 딕셔너리로 저장\n",
    "    json_result = {\n",
    "        \"topic_id\": idx,\n",
    "        \"start_time\": start_time_str,\n",
    "        \"end_time\": end_time_str,\n",
    "        \"content\": subtopic,\n",
    "        \"related_scripts\": related_scripts\n",
    "    }\n",
    "    json_results.append(json_result)\n",
    "print(json_results)"
   ]
  },
  {
   "cell_type": "code",
   "execution_count": 31,
   "metadata": {
    "executionInfo": {
     "elapsed": 2,
     "status": "ok",
     "timestamp": 1729263116942,
     "user": {
      "displayName": "유지현",
      "userId": "01868051154728111847"
     },
     "user_tz": -540
    },
    "id": "oYmGvikNBGI1"
   },
   "outputs": [
    {
     "name": "stdout",
     "output_type": "stream",
     "text": [
      "{'topic_id': 1, 'start_time': '0분 0초', 'end_time': '1분 50초', 'content': 'Q. 당뇨약을 줄이는 게 현실적인가요?', 'related_scripts': [{'time': '1분 24초', 'content': '그래서 사실 당뇨약을 줄이는 게 제일 현실적인 것 같아요. 이게 뭔가? 그래서 그만큼 지금 이 약을.'}, {'time': '1분 24초', 'content': '그래서 사실 당뇨약을 줄이는 게 제일 현실적인 것 같아요. 이게 뭔가? 그래서 그만큼 지금 이 약을.'}]}\n"
     ]
    }
   ],
   "source": [
    "print(json_results[0])"
   ]
  },
  {
   "cell_type": "markdown",
   "metadata": {},
   "source": [
    "Next steps:\n",
    "\n",
    "to create docker and upload to lambda,\n",
    "docker buildx create --use\n",
    "docker buildx build --platform linux/amd64 --load -t tenten_ai_topic .\n",
    "docker tag tenten_ai_topic:latest 820604767531.dkr.ecr.ap-northeast-2.amazonaws.com/tenten_ai_topic:latest\n",
    "docker push 820604767531.dkr.ecr.ap-northeast-2.amazonaws.com/tenten_ai_topic:latest"
   ]
  },
  {
   "cell_type": "code",
   "execution_count": null,
   "metadata": {},
   "outputs": [],
   "source": [
    "If you use docker buildx, make sure to reuse the builder instance rather than creating a new one every time:\n",
    "bash\n",
    "Copy code\n",
    "# Create the builder only once\n",
    "docker buildx create --use --name mybuilder\n",
    "Then, you can use the existing builder for subsequent builds:\n",
    "bash\n",
    "Copy code\n",
    "docker buildx use mybuilder\n",
    "docker buildx build --platform linux/amd64 --load -t tenten_ai_topic .\n"
   ]
  },
  {
   "cell_type": "code",
   "execution_count": null,
   "metadata": {},
   "outputs": [],
   "source": []
  },
  {
   "cell_type": "code",
   "execution_count": null,
   "metadata": {},
   "outputs": [],
   "source": []
  }
 ],
 "metadata": {
  "colab": {
   "authorship_tag": "ABX9TyMlVtXg7g26PnU+AN2HzD4u",
   "mount_file_id": "1gNrx_IpjBAg8HPBr_yztv8Cf-z5E8vqN",
   "provenance": []
  },
  "kernelspec": {
   "display_name": "Python 3",
   "language": "python",
   "name": "python3"
  },
  "language_info": {
   "codemirror_mode": {
    "name": "ipython",
    "version": 3
   },
   "file_extension": ".py",
   "mimetype": "text/x-python",
   "name": "python",
   "nbconvert_exporter": "python",
   "pygments_lexer": "ipython3",
   "version": "3.11.10"
  }
 },
 "nbformat": 4,
 "nbformat_minor": 0
}
