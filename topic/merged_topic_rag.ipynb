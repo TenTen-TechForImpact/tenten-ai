{
 "cells": [
  {
   "cell_type": "code",
   "execution_count": 1,
   "metadata": {
    "colab": {
     "base_uri": "https://localhost:8080/"
    },
    "collapsed": true,
    "executionInfo": {
     "elapsed": 42592,
     "status": "ok",
     "timestamp": 1729261369990,
     "user": {
      "displayName": "유지현",
      "userId": "01868051154728111847"
     },
     "user_tz": -540
    },
    "id": "zYQgKZlprwnF",
    "outputId": "892a1564-c02a-486d-8029-d790db21e728"
   },
   "outputs": [
    {
     "name": "stdout",
     "output_type": "stream",
     "text": [
      "Note: you may need to restart the kernel to use updated packages.\n"
     ]
    }
   ],
   "source": [
    "!pip install --quiet -U langchain langchain-openai\n",
    "%pip install --quiet --upgrade langchain langchain-community langchain-chroma\n"
   ]
  },
  {
   "cell_type": "code",
   "execution_count": null,
   "metadata": {},
   "outputs": [
    {
     "name": "stdout",
     "output_type": "stream",
     "text": [
      "Collecting supabase\n",
      "  Downloading supabase-2.6.0-py3-none-any.whl.metadata (9.3 kB)\n",
      "Collecting gotrue<3.0,>=1.3 (from supabase)\n",
      "  Downloading gotrue-2.9.2-py3-none-any.whl.metadata (6.0 kB)\n",
      "Requirement already satisfied: httpx<0.28,>=0.24 in c:\\users\\yooji\\anaconda3\\envs\\cs484_hw\\lib\\site-packages (from supabase) (0.27.0)\n",
      "Collecting postgrest<0.17.0,>=0.14 (from supabase)\n",
      "  Downloading postgrest-0.16.11-py3-none-any.whl.metadata (5.1 kB)\n",
      "Collecting realtime<2.0.0,>=1.0.0 (from supabase)\n",
      "  Downloading realtime-1.0.6-py3-none-any.whl.metadata (2.6 kB)\n",
      "Collecting storage3<0.8.0,>=0.5.3 (from supabase)\n",
      "  Downloading storage3-0.7.7-py3-none-any.whl.metadata (1.9 kB)\n",
      "Collecting supafunc<0.6.0,>=0.3.1 (from supabase)\n",
      "  Downloading supafunc-0.5.1-py3-none-any.whl.metadata (1.2 kB)\n",
      "Requirement already satisfied: pydantic<3,>=1.10 in c:\\users\\yooji\\anaconda3\\envs\\cs484_hw\\lib\\site-packages (from gotrue<3.0,>=1.3->supabase) (2.9.2)\n",
      "Requirement already satisfied: anyio in c:\\users\\yooji\\anaconda3\\envs\\cs484_hw\\lib\\site-packages (from httpx<0.28,>=0.24->supabase) (4.2.0)\n",
      "Requirement already satisfied: certifi in c:\\users\\yooji\\anaconda3\\envs\\cs484_hw\\lib\\site-packages (from httpx<0.28,>=0.24->supabase) (2024.8.30)\n",
      "Requirement already satisfied: httpcore==1.* in c:\\users\\yooji\\anaconda3\\envs\\cs484_hw\\lib\\site-packages (from httpx<0.28,>=0.24->supabase) (1.0.2)\n",
      "Requirement already satisfied: idna in c:\\users\\yooji\\anaconda3\\envs\\cs484_hw\\lib\\site-packages (from httpx<0.28,>=0.24->supabase) (3.7)\n",
      "Requirement already satisfied: sniffio in c:\\users\\yooji\\anaconda3\\envs\\cs484_hw\\lib\\site-packages (from httpx<0.28,>=0.24->supabase) (1.3.0)\n",
      "Requirement already satisfied: h11<0.15,>=0.13 in c:\\users\\yooji\\anaconda3\\envs\\cs484_hw\\lib\\site-packages (from httpcore==1.*->httpx<0.28,>=0.24->supabase) (0.14.0)\n",
      "Collecting deprecation<3.0.0,>=2.1.0 (from postgrest<0.17.0,>=0.14->supabase)\n",
      "  Downloading deprecation-2.1.0-py2.py3-none-any.whl.metadata (4.6 kB)\n",
      "Collecting strenum<0.5.0,>=0.4.9 (from postgrest<0.17.0,>=0.14->supabase)\n",
      "  Downloading StrEnum-0.4.15-py3-none-any.whl.metadata (5.3 kB)\n",
      "Requirement already satisfied: python-dateutil<3.0.0,>=2.8.1 in c:\\users\\yooji\\anaconda3\\envs\\cs484_hw\\lib\\site-packages (from realtime<2.0.0,>=1.0.0->supabase) (2.9.0.post0)\n",
      "Collecting typing-extensions<5.0.0,>=4.12.2 (from realtime<2.0.0,>=1.0.0->supabase)\n",
      "  Using cached typing_extensions-4.12.2-py3-none-any.whl.metadata (3.0 kB)\n",
      "Collecting websockets<13,>=11 (from realtime<2.0.0,>=1.0.0->supabase)\n",
      "  Downloading websockets-12.0-cp38-cp38-win_amd64.whl.metadata (6.8 kB)\n",
      "Requirement already satisfied: packaging in c:\\users\\yooji\\anaconda3\\envs\\cs484_hw\\lib\\site-packages (from deprecation<3.0.0,>=2.1.0->postgrest<0.17.0,>=0.14->supabase) (24.1)\n",
      "Collecting h2<5,>=3 (from httpx[http2]<0.28,>=0.26->gotrue<3.0,>=1.3->supabase)\n",
      "  Downloading h2-4.1.0-py3-none-any.whl.metadata (3.6 kB)\n",
      "Requirement already satisfied: annotated-types>=0.6.0 in c:\\users\\yooji\\anaconda3\\envs\\cs484_hw\\lib\\site-packages (from pydantic<3,>=1.10->gotrue<3.0,>=1.3->supabase) (0.7.0)\n",
      "Requirement already satisfied: pydantic-core==2.23.4 in c:\\users\\yooji\\anaconda3\\envs\\cs484_hw\\lib\\site-packages (from pydantic<3,>=1.10->gotrue<3.0,>=1.3->supabase) (2.23.4)\n",
      "Requirement already satisfied: six>=1.5 in c:\\users\\yooji\\anaconda3\\envs\\cs484_hw\\lib\\site-packages (from python-dateutil<3.0.0,>=2.8.1->realtime<2.0.0,>=1.0.0->supabase) (1.16.0)\n",
      "Requirement already satisfied: exceptiongroup>=1.0.2 in c:\\users\\yooji\\anaconda3\\envs\\cs484_hw\\lib\\site-packages (from anyio->httpx<0.28,>=0.24->supabase) (1.2.0)\n",
      "Collecting hyperframe<7,>=6.0 (from h2<5,>=3->httpx[http2]<0.28,>=0.26->gotrue<3.0,>=1.3->supabase)\n",
      "  Downloading hyperframe-6.0.1-py3-none-any.whl.metadata (2.7 kB)\n",
      "Collecting hpack<5,>=4.0 (from h2<5,>=3->httpx[http2]<0.28,>=0.26->gotrue<3.0,>=1.3->supabase)\n",
      "  Downloading hpack-4.0.0-py3-none-any.whl.metadata (2.5 kB)\n",
      "Downloading supabase-2.6.0-py3-none-any.whl (16 kB)\n",
      "Downloading gotrue-2.9.2-py3-none-any.whl (48 kB)\n",
      "Downloading postgrest-0.16.11-py3-none-any.whl (21 kB)\n",
      "Downloading realtime-1.0.6-py3-none-any.whl (9.0 kB)\n",
      "Downloading storage3-0.7.7-py3-none-any.whl (16 kB)\n",
      "Downloading supafunc-0.5.1-py3-none-any.whl (6.4 kB)\n",
      "Downloading deprecation-2.1.0-py2.py3-none-any.whl (11 kB)\n",
      "Downloading StrEnum-0.4.15-py3-none-any.whl (8.9 kB)\n",
      "Using cached typing_extensions-4.12.2-py3-none-any.whl (37 kB)\n",
      "Downloading websockets-12.0-cp38-cp38-win_amd64.whl (124 kB)\n",
      "Downloading h2-4.1.0-py3-none-any.whl (57 kB)\n",
      "Downloading hpack-4.0.0-py3-none-any.whl (32 kB)\n",
      "Downloading hyperframe-6.0.1-py3-none-any.whl (12 kB)\n",
      "Installing collected packages: strenum, websockets, typing-extensions, hyperframe, hpack, deprecation, realtime, h2, supafunc, storage3, postgrest, gotrue, supabase\n",
      "  Attempting uninstall: websockets\n",
      "    Found existing installation: websockets 13.1\n",
      "    Uninstalling websockets-13.1:\n",
      "      Successfully uninstalled websockets-13.1\n",
      "  Attempting uninstall: typing-extensions\n",
      "    Found existing installation: typing_extensions 4.11.0\n",
      "    Uninstalling typing_extensions-4.11.0:\n",
      "      Successfully uninstalled typing_extensions-4.11.0\n",
      "Successfully installed deprecation-2.1.0 gotrue-2.9.2 h2-4.1.0 hpack-4.0.0 hyperframe-6.0.1 postgrest-0.16.11 realtime-1.0.6 storage3-0.7.7 strenum-0.4.15 supabase-2.6.0 supafunc-0.5.1 typing-extensions-4.12.2 websockets-12.0\n"
     ]
    }
   ],
   "source": [
    "!pip install --quiet supabase"
   ]
  },
  {
   "cell_type": "code",
   "execution_count": 1,
   "metadata": {
    "colab": {
     "base_uri": "https://localhost:8080/"
    },
    "executionInfo": {
     "elapsed": 2536,
     "status": "ok",
     "timestamp": 1729261372518,
     "user": {
      "displayName": "유지현",
      "userId": "01868051154728111847"
     },
     "user_tz": -540
    },
    "id": "NSbgUxCIr0YY",
    "outputId": "1da637af-ac26-4255-f39b-44c71840362f"
   },
   "outputs": [
    {
     "name": "stdout",
     "output_type": "stream",
     "text": [
      "OpenAI API: sk-p********\n",
      "LangChain API Key: lsv2********\n"
     ]
    }
   ],
   "source": [
    "import os\n",
    "from supabase import create_client, Client\n",
    "\n",
    "openai_api_key = os.getenv(\"OPENAI_API_KEY_1010\")\n",
    "langchain_api_key = os.getenv(\"LANGCHAIN_API_KEY\")\n",
    "\n",
    "print(f\"OpenAI API: {openai_api_key[:4]}********\")\n",
    "print(f\"LangChain API Key: {langchain_api_key[:4]}********\")\n",
    "\n",
    "os.environ[\"OPENAI_API_KEY\"] = openai_api_key\n",
    "os.environ[\"LANGCHAIN_PROJECT\"] = \"tech4impact_1010\"\n",
    "os.environ[\"LANGCHAIN_API_KEY\"] = langchain_api_key\n",
    "os.environ[\"LANGCHAIN_TRACING_V2\"] = \"true\"\n",
    "\n",
    "SUPABASE_URL = os.getenv(\"NEXT_PUBLIC_SUPABASE_URL\")\n",
    "SUPABASE_KEY = os.getenv(\"NEXT_PUBLIC_SUPABASE_SERVICE_KEY\")\n",
    "supabase: Client = create_client(SUPABASE_URL, SUPABASE_KEY)\n",
    "\n"
   ]
  },
  {
   "cell_type": "markdown",
   "metadata": {
    "id": "y83M8arbsJXm"
   },
   "source": [
    "LangSmith Setup (LLM Logging)\n"
   ]
  },
  {
   "cell_type": "code",
   "execution_count": 2,
   "metadata": {
    "colab": {
     "base_uri": "https://localhost:8080/"
    },
    "executionInfo": {
     "elapsed": 4016,
     "status": "ok",
     "timestamp": 1729261376523,
     "user": {
      "displayName": "유지현",
      "userId": "01868051154728111847"
     },
     "user_tz": -540
    },
    "id": "XKyEBNzq9F9n",
    "outputId": "9f0cc511-2df3-48cf-d0f1-eb8e2a64fccd"
   },
   "outputs": [
    {
     "data": {
      "text/plain": [
       "AIMessage(content='Hello! How can I assist you today?', additional_kwargs={'refusal': None}, response_metadata={'token_usage': {'completion_tokens': 9, 'prompt_tokens': 11, 'total_tokens': 20, 'completion_tokens_details': {'audio_tokens': 0, 'reasoning_tokens': 0, 'accepted_prediction_tokens': 0, 'rejected_prediction_tokens': 0}, 'prompt_tokens_details': {'audio_tokens': 0, 'cached_tokens': 0}}, 'model_name': 'gpt-3.5-turbo-0125', 'system_fingerprint': None, 'finish_reason': 'stop', 'logprobs': None}, id='run-e9d2ffe8-260d-469c-b3a0-abb51af9f481-0', usage_metadata={'input_tokens': 11, 'output_tokens': 9, 'total_tokens': 20})"
      ]
     },
     "execution_count": 2,
     "metadata": {},
     "output_type": "execute_result"
    }
   ],
   "source": [
    "from langchain_openai import ChatOpenAI\n",
    "\n",
    "llm = ChatOpenAI()\n",
    "llm.invoke(\"Hello, world!\")"
   ]
  },
  {
   "cell_type": "markdown",
   "metadata": {
    "id": "3-MxNp0BxHde"
   },
   "source": [
    "Starts from now"
   ]
  },
  {
   "cell_type": "code",
   "execution_count": 3,
   "metadata": {
    "executionInfo": {
     "elapsed": 411,
     "status": "ok",
     "timestamp": 1729263038728,
     "user": {
      "displayName": "유지현",
      "userId": "01868051154728111847"
     },
     "user_tz": -540
    },
    "id": "_XNUzGYHv8_t"
   },
   "outputs": [],
   "source": [
    "import os\n",
    "import json\n",
    "import getpass\n",
    "import logging \n",
    "# Set your OpenAI API key\n",
    "#os.environ[\"OPENAI_API_KEY\"] = getpass.getpass(\"Enter your OpenAI API key: \")\n",
    "from langchain.docstore.document import Document\n",
    "from langchain.text_splitter import RecursiveCharacterTextSplitter\n",
    "from langchain.embeddings import OpenAIEmbeddings\n",
    "from langchain.vectorstores import Chroma\n",
    "from langchain.llms import OpenAI\n",
    "from langchain.chat_models import ChatOpenAI\n",
    "\n",
    "from langchain.prompts import PromptTemplate\n",
    "from langchain.chains import LLMChain\n",
    "\n",
    "from langchain.chains import create_retrieval_chain\n",
    "from langchain.chains.combine_documents import create_stuff_documents_chain\n",
    "from langchain_core.prompts import ChatPromptTemplate\n",
    "from langchain.chains import RetrievalQA\n",
    "\n"
   ]
  },
  {
   "cell_type": "code",
   "execution_count": 4,
   "metadata": {
    "colab": {
     "base_uri": "https://localhost:8080/"
    },
    "executionInfo": {
     "elapsed": 384,
     "status": "ok",
     "timestamp": 1729261489614,
     "user": {
      "displayName": "유지현",
      "userId": "01868051154728111847"
     },
     "user_tz": -540
    },
    "id": "U4H_5XiexsJR",
    "outputId": "eed29449-8112-4542-96f4-1e424ec3358b"
   },
   "outputs": [],
   "source": [
    "logging.basicConfig(level=logging.INFO, format='%(asctime)s - %(levelname)s - %(message)s')\n"
   ]
  },
  {
   "cell_type": "code",
   "execution_count": 5,
   "metadata": {},
   "outputs": [
    {
     "name": "stderr",
     "output_type": "stream",
     "text": [
      "C:\\Users\\yooji\\AppData\\Local\\Temp\\ipykernel_29096\\2802407195.py:12: LangChainDeprecationWarning: The class `OpenAIEmbeddings` was deprecated in LangChain 0.0.9 and will be removed in 1.0. An updated version of the class exists in the langchain-openai package and should be used instead. To use it run `pip install -U langchain-openai` and import as `from langchain_openai import OpenAIEmbeddings`.\n",
      "  embeddings = OpenAIEmbeddings(model=\"text-embedding-ada-002\")  # Efficient embedding model\n",
      "C:\\Users\\yooji\\AppData\\Local\\Temp\\ipykernel_29096\\2802407195.py:13: LangChainDeprecationWarning: The class `ChatOpenAI` was deprecated in LangChain 0.0.10 and will be removed in 1.0. An updated version of the class exists in the langchain-openai package and should be used instead. To use it run `pip install -U langchain-openai` and import as `from langchain_openai import ChatOpenAI`.\n",
      "  llm = ChatOpenAI(model_name=\"gpt-3.5-turbo\", temperature=0)  # Chat-based LLM for tagging\n"
     ]
    }
   ],
   "source": [
    "import numpy as np\n",
    "from sklearn.metrics.pairwise import cosine_similarity\n",
    "\n",
    "TAGS = [\n",
    "    \"고지혈증 약\", \"비타민\", \"스테로이드\", \"타이레놀\",\n",
    "    \"프로바이오틱스\", \"오메가 3\", \"아르기닌\", \"유산균\",\n",
    "    \"건선\", \"고지혈증\", \"감기\", \"탈모\", \"갱년기\",\n",
    "    \"운동\", \"술자리\", \"식사 조절\", \"수면 패턴\",\n",
    "    \"간 수치\", \"가족력\", \"영양제\",\n",
    "    \"기타\"  # \"기타\" means \"Other\"\n",
    "]\n",
    "embeddings = OpenAIEmbeddings(model=\"text-embedding-ada-002\")  # Efficient embedding model\n",
    "llm = ChatOpenAI(model_name=\"gpt-3.5-turbo\", temperature=0)  # Chat-based LLM for tagging\n",
    "\n",
    "MIN_LENGTH = 20\n",
    "\n",
    "# Define Semantic Merging Function Using Embeddings\n",
    "def merge_semantically(utterances, similarity_threshold=0.8):\n",
    "\n",
    "    if not utterances:\n",
    "        return []\n",
    "    \n",
    "    # Extract messages for embedding\n",
    "    messages = [utt['msg'] for utt in utterances]\n",
    "    \n",
    "    # Retrieve embeddings using LangChain\n",
    "    utterance_embeddings = embeddings.embed_documents(messages)\n",
    "    \n",
    "    merged = []\n",
    "    current = utterances[0].copy()\n",
    "    current_embedding = utterance_embeddings[0]\n",
    "    \n",
    "    for idx in range(1, len(utterances)):\n",
    "        next_utt = utterances[idx]\n",
    "        next_embedding = utterance_embeddings[idx]\n",
    "        \n",
    "        # Check if the speaker is the same\n",
    "        if current['spk'] == next_utt['spk']:\n",
    "            # Compute cosine similarity\n",
    "            similarity = cosine_similarity(\n",
    "                [current_embedding],\n",
    "                [next_embedding]\n",
    "            )[0][0]\n",
    "            \n",
    "            if similarity >= similarity_threshold:\n",
    "                # Merge utterances if similarity threshold is met\n",
    "                current['duration'] += next_utt['duration']\n",
    "                current['msg'] += \" \" + next_utt['msg']\n",
    "                # Optionally, update other metadata if needed\n",
    "            else:\n",
    "                # Add current utterance to merged list and reset\n",
    "                merged.append(current)\n",
    "                current = next_utt.copy()\n",
    "                current_embedding = next_embedding\n",
    "        else:\n",
    "            # If speakers are different, add current to merged list and reset\n",
    "            merged.append(current)\n",
    "            current = next_utt.copy()\n",
    "            current_embedding = next_embedding\n",
    "    \n",
    "    merged.append(current)\n",
    "    return merged\n",
    "def merge_short_utterances(merged_utterances, min_length=MIN_LENGTH):\n",
    "    if not merged_utterances:\n",
    "        return []\n",
    "    \n",
    "    adjusted_utterances = []\n",
    "    current = merged_utterances[0].copy()\n",
    "    \n",
    "    for next_utt in merged_utterances[1:]:\n",
    "        # Count words or characters in the next utterance\n",
    "        word_count = len(next_utt['msg'].split())\n",
    "        \n",
    "        if word_count < min_length:\n",
    "            # If the next utterance is too short, merge it with the current one\n",
    "            current['duration'] += next_utt['duration']\n",
    "            current['msg'] += \" \" + next_utt['msg']\n",
    "        else:\n",
    "            # Append the current utterance if it meets the minimum length\n",
    "            adjusted_utterances.append(current)\n",
    "            current = next_utt.copy()\n",
    "    \n",
    "    # Add the last segment\n",
    "    adjusted_utterances.append(current)\n",
    "    return adjusted_utterances\n",
    "\n",
    "\n",
    "# Define Tagging Function Using LangChain's ChatOpenAI\n",
    "from typing import List\n",
    "\n",
    "\n",
    "def semantic_tag_utterances_batch(\n",
    "    merged_utterances: List[dict],\n",
    "    tags_list: List[str],\n",
    "    batch_size: int = 5,\n",
    "    window_size: int = 1\n",
    ") -> List[dict]:\n",
    "    \"\"\"\n",
    "    Assigns semantic tags to merged utterances using LangChain's LLMChain in batches.\n",
    "    Each utterance can have multiple tags or none (defaults to '기타').\n",
    "    \n",
    "    Args:\n",
    "        merged_utterances (List[dict]): List of merged utterance dictionaries.\n",
    "        tags_list (List[str]): List of predefined tags.\n",
    "        batch_size (int, optional): Number of utterances to process in one batch. Defaults to 5.\n",
    "        window_size (int, optional): Number of previous and next utterances to include as context. Defaults to 1.\n",
    "    \n",
    "    Returns:\n",
    "        List[dict]: List of merged utterance dictionaries with assigned tags.\n",
    "    \"\"\"\n",
    "    def clean_ai_response(response: str) -> str:\n",
    "        \"\"\"\n",
    "        Cleans the AI response by removing code block markers if present.\n",
    "\n",
    "        Args:\n",
    "            response (str): The raw response from the AI.\n",
    "\n",
    "        Returns:\n",
    "            str: The cleaned JSON string.\n",
    "        \"\"\"\n",
    "        # Remove triple backticks and language specifier if present\n",
    "        if response.startswith(\"```\") and \"json\" in response:\n",
    "            response = response.strip(\"```json\").strip(\"```\").strip()\n",
    "        elif response.startswith(\"```\") and \"json\" not in response:\n",
    "            response = response.strip(\"```\").strip()\n",
    "        return response\n",
    "\n",
    "    tagged_utterances = []\n",
    "    total = len(merged_utterances)\n",
    "    tags_str = \", \".join(tags_list[:-1]) + \", 기타\"\n",
    "        \n",
    "    llm = ChatOpenAI(model_name=\"gpt-4o\", temperature=0)  # Adjust model and parameters as needed\n",
    "    prompt_template = \"\"\"\n",
    "    You are an AI assistant that assigns relevant tags to conversation fragments based on the provided list of tags.\n",
    "    Each fragment can have multiple tags or none. If no tags apply, assign '기타'.\n",
    "    Return the results as a JSON array where each element contains the 'fragment_id' and a list of assigned 'tags'.\n",
    "\n",
    "    Example Response:\n",
    "    [\n",
    "        {{\"fragment_id\": 0, \"tags\": [\"비타민\", \"운동\"]}},\n",
    "        {{\"fragment_id\": 1, \"tags\": [\"기타\"]}}\n",
    "    ]\n",
    "\n",
    "    Tags List:\n",
    "    {tags_str}\n",
    "\n",
    "    Conversation Context:\n",
    "    {chat_history}\n",
    "\n",
    "    Fragments to Tag:\n",
    "    {fragments}\n",
    "\n",
    "    Provide the assigned tags in JSON format as shown in the example.\n",
    "    \"\"\"\n",
    "\n",
    "    # Create a PromptTemplate\n",
    "    template = PromptTemplate(\n",
    "        input_variables=[\"tags_str\", \"chat_history\", \"fragments\"],\n",
    "        template=prompt_template\n",
    "    )\n",
    "\n",
    "\n",
    "    # Create the LLMChain with the prompt and memory\n",
    "    chain = LLMChain(\n",
    "        llm=llm,\n",
    "        prompt=template,\n",
    "    )\n",
    "    for i in range(0, total, batch_size):\n",
    "        batch = merged_utterances[i:i+batch_size]\n",
    "        \n",
    "        # Determine the context window for the entire batch\n",
    "        context_start = max(0, i - window_size)\n",
    "        context_end = min(total, i + batch_size + window_size)\n",
    "        context_utterances = merged_utterances[context_start:context_end]\n",
    "\n",
    "        # Construct the conversation context\n",
    "        conversation_context = \"\"\n",
    "        for utt in context_utterances:\n",
    "            speaker = f\"Speaker {utt['spk']}\"\n",
    "            message = utt['msg']\n",
    "            conversation_context += f\"{speaker}: {message}\\n\"\n",
    "\n",
    "        # Prepare fragments to tag with unique fragment_ids\n",
    "        fragments_info = []\n",
    "        for idx, utt in enumerate(batch):\n",
    "            fragment_id = i + idx  # Unique identifier across the entire list\n",
    "            fragments_info.append({\n",
    "                \"fragment_id\": fragment_id,\n",
    "                \"fragment\": utt['msg']\n",
    "            })\n",
    "\n",
    "        # Convert fragments_info to a JSON string for the prompt\n",
    "        fragments_json = json.dumps([\n",
    "            {\"fragment_id\": frag['fragment_id'], \"fragment\": frag['fragment']}\n",
    "            for frag in fragments_info\n",
    "        ], ensure_ascii=False, indent=4)\n",
    "\n",
    "        # Prepare the prompt variables\n",
    "        prompt_variables = {\n",
    "            \"tags_str\": tags_str,\n",
    "            \"chat_history\": conversation_context,\n",
    "            \"fragments\": fragments_json\n",
    "        }\n",
    "\n",
    "        # Generate the prompt using the PromptTemplate\n",
    "        prompt = template.format(**prompt_variables)\n",
    "\n",
    "        try:\n",
    "            # Run the LLMChain with the prompt\n",
    "            response = chain.run(tags_str=tags_str, chat_history=conversation_context, fragments=fragments_json)\n",
    "            \n",
    "            # Parse the JSON response\n",
    "            cleaned_response = clean_ai_response(response)\n",
    "            tags_json = json.loads(cleaned_response)\n",
    "            \n",
    "            # Create a mapping from fragment_id to tags\n",
    "            tags_mapping = {item['fragment_id']: item.get('tags', [\"기타\"]) for item in tags_json}\n",
    "            \n",
    "            for frag in fragments_info:\n",
    "                assigned_tags = tags_mapping.get(frag['fragment_id'], [\"기타\"])\n",
    "                # Ensure tags are valid\n",
    "                valid_tags = [tag for tag in assigned_tags if tag in tags_list]\n",
    "                if not valid_tags:\n",
    "                    valid_tags = [\"기타\"]\n",
    "                # Assign tags to the corresponding utterance\n",
    "                utt = merged_utterances[frag['fragment_id']]\n",
    "                utt['tags'] = valid_tags\n",
    "                tagged_utterances.append(utt)\n",
    "        \n",
    "        except json.JSONDecodeError as parse_error:\n",
    "            logging.error(f\"Error decoding JSON response: {parse_error}\")\n",
    "            logging.error(f\"AI Response: {response}\")\n",
    "            # Assign '기타' to all fragments in the batch in case of parse error\n",
    "            for frag in fragments_info:\n",
    "                utt = merged_utterances[frag['fragment_id']]\n",
    "                utt['tags'] = [\"기타\"]\n",
    "                tagged_utterances.append(utt)\n",
    "        \n",
    "        except Exception as e:\n",
    "            logging.error(f\"Error during semantic tagging: {e}\")\n",
    "            # Assign '기타' to all fragments in the batch in case of API call failure\n",
    "            for frag in fragments_info:\n",
    "                utt = merged_utterances[frag['fragment_id']]\n",
    "                utt['tags'] = [\"기타\"]\n",
    "                tagged_utterances.append(utt)\n",
    "\n",
    "    return tagged_utterances"
   ]
  },
  {
   "cell_type": "code",
   "execution_count": 6,
   "metadata": {},
   "outputs": [
    {
     "name": "stderr",
     "output_type": "stream",
     "text": [
      "2024-11-15 17:58:27,382 - INFO - HTTP Request: POST https://api.openai.com/v1/embeddings \"HTTP/1.1 200 OK\"\n"
     ]
    }
   ],
   "source": [
    "\n",
    "with open('../transcription.json', 'r', encoding='utf-8') as f:\n",
    "    data = json.load(f)\n",
    "\n",
    "utterances = data['utterances']\n",
    "merged_utterances = merge_semantically(utterances, similarity_threshold=0.81)\n",
    "merged_utterances_short_removed =  merge_short_utterances(merged_utterances, min_length=MIN_LENGTH)\n",
    "from datetime import datetime  \n",
    "timestamp = datetime.now().strftime('%Y%m%d_%H%M%S')\n",
    "filename = f\"merged_utterances_{timestamp}.json\"\n",
    "\n",
    "# Save the `tagged_utterances` to a local JSON file\n",
    "with open(filename, 'w', encoding='utf-8') as f:\n",
    "    json.dump(merged_utterances_short_removed, f, ensure_ascii=False, indent=4)\n",
    "\n",
    "        # Step 2: Tagging Merged Utterances in Batches\n",
    "        \n"
   ]
  },
  {
   "cell_type": "code",
   "execution_count": 7,
   "metadata": {
    "executionInfo": {
     "elapsed": 385,
     "status": "ok",
     "timestamp": 1729266747911,
     "user": {
      "displayName": "유지현",
      "userId": "01868051154728111847"
     },
     "user_tz": -540
    },
    "id": "HtokP9uDxP-O"
   },
   "outputs": [
    {
     "name": "stderr",
     "output_type": "stream",
     "text": [
      "2024-11-15 17:58:30,793 - INFO - 총 80개의 문서 생성.\n"
     ]
    }
   ],
   "source": [
    "def ms_to_minutes_seconds_str(milliseconds):\n",
    "    seconds = milliseconds // 1000  # 총 초\n",
    "    minutes = seconds // 60  # 분 계산\n",
    "    remaining_seconds = seconds % 60  # 남은 초 계산\n",
    "    return f\"{minutes}분 {remaining_seconds}초\"  # 출력 형식\n",
    "\n",
    "# 파일 \n",
    "n = 3941239\n",
    "\n",
    "# 발화를 Document 객체로 생성\n",
    "filtered_documents = [\n",
    "    Document(\n",
    "        page_content=utterance['msg'],\n",
    "        metadata={\n",
    "            'start_at': utterance['start_at'],\n",
    "            'duration': utterance['duration'],\n",
    "            'speaker': utterance['spk'],\n",
    "            'speaker_type': utterance['spk_type']\n",
    "        }\n",
    "    )\n",
    "    for utterance in merged_utterances_short_removed if utterance['start_at'] > n\n",
    "]\n",
    "logging.info(f\"총 {len(filtered_documents)}개의 문서 생성.\")\n",
    "\n",
    "# 시작 시간 기준으로 정렬\n",
    "documents = sorted(filtered_documents, key=lambda doc: doc.metadata['start_at'])\n"
   ]
  },
  {
   "cell_type": "code",
   "execution_count": 8,
   "metadata": {
    "colab": {
     "base_uri": "https://localhost:8080/"
    },
    "executionInfo": {
     "elapsed": 7124,
     "status": "ok",
     "timestamp": 1729261501270,
     "user": {
      "displayName": "유지현",
      "userId": "01868051154728111847"
     },
     "user_tz": -540
    },
    "id": "pHkD49XIySAF",
    "outputId": "d6683768-f12c-4b9c-de33-a8d51f8a81dc"
   },
   "outputs": [
    {
     "name": "stderr",
     "output_type": "stream",
     "text": [
      "2024-11-15 17:58:32,173 - INFO - Anonymized telemetry enabled. See                     https://docs.trychroma.com/telemetry for more information.\n",
      "2024-11-15 17:58:33,525 - INFO - HTTP Request: POST https://api.openai.com/v1/embeddings \"HTTP/1.1 200 OK\"\n"
     ]
    }
   ],
   "source": [
    "full_text = ''\n",
    "for doc in documents:\n",
    "    start_time_str = ms_to_minutes_seconds_str(doc.metadata['start_at'])\n",
    "    full_text += f\"[{start_time_str}] {doc.page_content}\\n\"\n",
    "\n",
    "\n",
    "# 언어 모델 초기화 # mini 버전 써보기\n",
    "llm = ChatOpenAI(model_name=\"gpt-4o\", temperature=0)\n",
    "\n",
    "\n",
    "\n",
    "# 임베딩 및 벡터스토어 초기화\n",
    "embeddings = OpenAIEmbeddings()\n",
    "vectorstore = Chroma.from_documents(documents, embeddings, persist_directory=None)\n",
    "\n",
    "# 리트리버 \n",
    "retriever = vectorstore.as_retriever(search_kwargs={\"k\": 5})\n"
   ]
  },
  {
   "cell_type": "code",
   "execution_count": 9,
   "metadata": {
    "executionInfo": {
     "elapsed": 18,
     "status": "ok",
     "timestamp": 1729261501271,
     "user": {
      "displayName": "유지현",
      "userId": "01868051154728111847"
     },
     "user_tz": -540
    },
    "id": "LHWEiuYDyTV5"
   },
   "outputs": [
    {
     "name": "stderr",
     "output_type": "stream",
     "text": [
      "C:\\Users\\yooji\\AppData\\Local\\Temp\\ipykernel_29096\\1108946316.py:48: LangChainDeprecationWarning: The method `Chain.__call__` was deprecated in langchain 0.1.0 and will be removed in 1.0. Use invoke instead.\n",
      "  response = rag_chain({\"query\": prompt.format(text=full_text)})\n",
      "2024-11-15 17:58:35,946 - INFO - HTTP Request: POST https://api.openai.com/v1/embeddings \"HTTP/1.1 200 OK\"\n",
      "2024-11-15 17:58:48,847 - INFO - HTTP Request: POST https://api.openai.com/v1/chat/completions \"HTTP/1.1 200 OK\"\n"
     ]
    },
    {
     "name": "stdout",
     "output_type": "stream",
     "text": [
      "=== Session Summary ===\n",
      "**65분 51초 ~ 66분 36초**\n",
      "- Q. 고지혈증 약을 끊었는데 영양제를 먹어야 할까요?\n",
      "\n",
      "**66분 36초 ~ 67분 51초**\n",
      "- [이렇게 하세요] 간 수치가 높다면 병원에서의 조언을 따르고, 간에 무리가 가지 않는 영양제를 선택하세요.\n",
      "\n",
      "**67분 51초 ~ 68분 52초**\n",
      "- [이렇게 하세요] 건선 약을 복용할 때 간 수치에 주의하고, 필요시 약을 중단하세요.\n",
      "\n",
      "**69분 1초 ~ 69분 26초**\n",
      "- [이렇게 하세요] 피로감이 있다면 건강식품을 섭취해도 좋습니다.\n",
      "\n",
      "**69분 54초 ~ 70분 21초**\n",
      "- Q. 감기약은 약국에서 사는 것과 병원에서 처방받는 것 중 어느 것이 나을까요?\n",
      "\n",
      "**71분 5초 ~ 71분 41초**\n",
      "- [이렇게 하세요] 감기 증상이 시작될 때 비타민을 섭취하여 면역력을 높이세요.\n",
      "\n",
      "**72분 8초 ~ 72분 44초**\n",
      "- [바꾸세요] 종합 감기약 대신 증상에 맞는 약을 선택하세요.\n",
      "\n",
      "**73분 27초 ~ 74분 2초**\n",
      "- [이렇게 하세요] 목이 아플 때는 타이레놀을 복용하세요.\n",
      "\n",
      "**77분 7초 ~ 79분 5초**\n",
      "- Q. 일본에서 받은 영양제를 계속 먹어도 되나요?\n",
      "\n",
      "**79분 5초 ~ 80분 24초**\n",
      "- [이렇게 하세요] 유산균은 여러 종류를 함께 먹어도 무방합니다.\n",
      "\n",
      "**83분 19초 ~ 84분 10초**\n",
      "- [이렇게 하세요] 고지혈증 약을 중단했다면 피검사를 통해 상태를 확인하세요.\n",
      "\n",
      "**84분 44초 ~ 87분 26초**\n",
      "- [이렇게 하세요] 다양한 영양제를 섭취할 때 겹치지 않도록 주의하고, 항산화제에 집중하세요.\n",
      "\n",
      "**87분 57초 ~ 88분 34초**\n",
      "- [이렇게 하세요] 고지혈증 약을 오래 복용했다면 코엔자임 Q10을 보충하세요.\n",
      "\n",
      "**89분 10초 ~ 89분 30초**\n",
      "- [이렇게 하세요] 저녁 식사를 간단히 하고, 늦은 시간에는 식사를 피하세요.\n",
      "\n",
      "**91분 30초 ~ 92분 50초**\n",
      "- [이렇게 하세요] 저녁에 탄수화물 섭취를 줄이고, 고기나 채소 위주로 식사하세요.\n",
      "\n",
      "**94분 8초 ~ 95분 34초**\n",
      "- [이렇게 하세요] 잠이 오지 않을 때는 눈을 감고 휴식을 취하세요.\n",
      "\n",
      "**97분 23초 ~ 99분 43초**\n",
      "- [이렇게 하세요] 영양제를 제공할 때는 개인 맞춤형으로 제공하는 것이 좋습니다.\n",
      "\n",
      "**106분 16초 ~ 107분 25초**\n",
      "- [이렇게 하세요] 탈모 치료제를 장기 복용해도 되며, 호르몬제가 포함되지 않은 제품을 선택하세요.\n",
      "\n",
      "**110분 54초 ~ 112분 49초**\n",
      "- [이렇게 하세요] 갱년기 증상이 있다면 여성호르몬 검사를 받고, 필요시 호르몬 치료를 고려하세요.\n",
      "\n",
      "**113분 40초 ~ 114분 14초**\n",
      "- [이렇게 하세요] 오메가 3는 작은 생선에서 추출된 제품을 선택하세요.\n"
     ]
    }
   ],
   "source": [
    "import re\n",
    "# 역할 지정해서 돌려보기\n",
    "#role description\n",
    "#확정은 결과물 가지고 펠로우님이랑 이야기\n",
    "#chunk 늘려보기..\n",
    "prompt = \"\"\"\n",
    "        당신은 전문적인 상담 세션을 분석하고 요약하는 AI입니다. 아래 상담 세션의 전체 스크립트를 주제별로 시간 순서에 따라 요약해 주세요. 다음 지침을 반드시 따르세요:\n",
    "        \n",
    "        1. 각 시간 구간은 **하나의 주요 질문** 또는 **하나의 주요 조언**으로 구성합니다. 하나의 구간에 여러 주제가 섞이지 않도록 주의해 주세요.\n",
    "        2. 각 주제에 대해 시작 시간과 종료 시간을 명시합니다. 시작 시간은 해당 주제가 스크립트에서 처음 등장한 시점, 종료 시간은 마지막으로 등장한 시점을 기준으로 합니다.\n",
    "        3. 각 요약은 다음 형식 중 **하나**로 작성합니다:\n",
    "           - 질문인 경우: **Q.**으로 시작하여 질문 내용을 요약합니다.\n",
    "           - 행동 변경이 필요한 경우: **[바꾸세요]**로 시작하여 변경이 필요한 행동을 요약합니다.\n",
    "           - 권장 사항인 경우: **[이렇게 하세요]**로 시작하여 권장 사항을 요약합니다.\n",
    "        4. 스크립트에는 의약 관련, 생활 습관 등이 아닌 상담과 관련 없는 대화 내용이 일부 포함되어 있습니다. 그런 경우, 주제 산정에서 제외해주세요.\n",
    "\n",
    "\n",
    "        **답변 예시:**\n",
    "        **0분 42초 ~ 3분 15초**\n",
    "        - Q. 오메가3 가 정말 유익한 거 맞나요?\n",
    "        \n",
    "        **5분 0초 ~ 7분 30초**\n",
    "        - [바꾸세요] 당뇨 약은 중단하지 마세요.\n",
    "        \n",
    "        **10분 15초 ~ 12분 45초**\n",
    "        - [이렇게 하세요] 약 복용을 지속하세요.\n",
    "        \n",
    "        **스크립트:**\n",
    "        {text}\n",
    "        \n",
    "        **요약:**\n",
    "\"\"\"\n",
    "\n",
    "human_prompt = PromptTemplate(\n",
    "    input_variables=[],\n",
    "    template=\"요약:\"\n",
    ")\n",
    "\n",
    "\n",
    "rag_chain = RetrievalQA.from_chain_type(\n",
    "            llm=llm,\n",
    "            chain_type=\"stuff\",  # 또는 \"map_reduce\" 등 필요에 따라 변경 가능\n",
    "            retriever=retriever,\n",
    "            return_source_documents=True\n",
    "        )\n",
    "\n",
    "# 전체 스크립트 요약 \n",
    "response = rag_chain({\"query\": prompt.format(text=full_text)})\n",
    "session_summary = response[\"result\"]\n",
    "source_documents = response[\"source_documents\"]\n",
    "\n",
    "print(\"=== Session Summary ===\")\n",
    "print(session_summary)\n",
    "# print(\"\\n=== Source Documents ===\")\n",
    "# for doc in source_documents:\n",
    "#     print(f\"Source: {doc.page_content}\\n\")\n"
   ]
  },
  {
   "cell_type": "code",
   "execution_count": 10,
   "metadata": {
    "colab": {
     "base_uri": "https://localhost:8080/"
    },
    "executionInfo": {
     "elapsed": 17465,
     "status": "ok",
     "timestamp": 1729266175924,
     "user": {
      "displayName": "유지현",
      "userId": "01868051154728111847"
     },
     "user_tz": -540
    },
    "id": "KV1HpymlylqA",
    "outputId": "cfe16ae5-7192-402c-9243-530d32f5b27d"
   },
   "outputs": [
    {
     "name": "stdout",
     "output_type": "stream",
     "text": [
      "[('65분 51초', '66분 36초', 'Q. 고지혈증 약을 끊었는데 영양제를 먹어야 할까요?\\n'), ('66분 36초', '67분 51초', '[이렇게 하세요] 간 수치가 높다면 병원에서의 조언을 따르고, 간에 무리가 가지 않는 영양제를 선택하세요.\\n'), ('67분 51초', '68분 52초', '[이렇게 하세요] 건선 약을 복용할 때 간 수치에 주의하고, 필요시 약을 중단하세요.\\n'), ('69분 1초', '69분 26초', '[이렇게 하세요] 피로감이 있다면 건강식품을 섭취해도 좋습니다.\\n'), ('69분 54초', '70분 21초', 'Q. 감기약은 약국에서 사는 것과 병원에서 처방받는 것 중 어느 것이 나을까요?\\n'), ('71분 5초', '71분 41초', '[이렇게 하세요] 감기 증상이 시작될 때 비타민을 섭취하여 면역력을 높이세요.\\n'), ('72분 8초', '72분 44초', '[바꾸세요] 종합 감기약 대신 증상에 맞는 약을 선택하세요.\\n'), ('73분 27초', '74분 2초', '[이렇게 하세요] 목이 아플 때는 타이레놀을 복용하세요.\\n'), ('77분 7초', '79분 5초', 'Q. 일본에서 받은 영양제를 계속 먹어도 되나요?\\n'), ('79분 5초', '80분 24초', '[이렇게 하세요] 유산균은 여러 종류를 함께 먹어도 무방합니다.\\n'), ('83분 19초', '84분 10초', '[이렇게 하세요] 고지혈증 약을 중단했다면 피검사를 통해 상태를 확인하세요.\\n'), ('84분 44초', '87분 26초', '[이렇게 하세요] 다양한 영양제를 섭취할 때 겹치지 않도록 주의하고, 항산화제에 집중하세요.\\n'), ('87분 57초', '88분 34초', '[이렇게 하세요] 고지혈증 약을 오래 복용했다면 코엔자임 Q10을 보충하세요.\\n'), ('89분 10초', '89분 30초', '[이렇게 하세요] 저녁 식사를 간단히 하고, 늦은 시간에는 식사를 피하세요.\\n'), ('91분 30초', '92분 50초', '[이렇게 하세요] 저녁에 탄수화물 섭취를 줄이고, 고기나 채소 위주로 식사하세요.\\n'), ('94분 8초', '95분 34초', '[이렇게 하세요] 잠이 오지 않을 때는 눈을 감고 휴식을 취하세요.\\n'), ('97분 23초', '99분 43초', '[이렇게 하세요] 영양제를 제공할 때는 개인 맞춤형으로 제공하는 것이 좋습니다.\\n'), ('106분 16초', '107분 25초', '[이렇게 하세요] 탈모 치료제를 장기 복용해도 되며, 호르몬제가 포함되지 않은 제품을 선택하세요.\\n'), ('110분 54초', '112분 49초', '[이렇게 하세요] 갱년기 증상이 있다면 여성호르몬 검사를 받고, 필요시 호르몬 치료를 고려하세요.\\n'), ('113분 40초', '114분 14초', '[이렇게 하세요] 오메가 3는 작은 생선에서 추출된 제품을 선택하세요.')]\n"
     ]
    }
   ],
   "source": [
    "# 출력 파싱, 주제와 시간 정보 추출\n",
    "subtopics = re.findall(r'\\*\\*(\\d+분 \\d+초) ~ (\\d+분 \\d+초)\\*\\*\\n- (.+?)(?=\\n\\*\\*\\d+분|\\Z)', session_summary, re.DOTALL)\n",
    "\n",
    "print(subtopics)\n"
   ]
  },
  {
   "cell_type": "code",
   "execution_count": 11,
   "metadata": {
    "executionInfo": {
     "elapsed": 445,
     "status": "ok",
     "timestamp": 1729266336389,
     "user": {
      "displayName": "유지현",
      "userId": "01868051154728111847"
     },
     "user_tz": -540
    },
    "id": "XlwiQtK1yqwv"
   },
   "outputs": [
    {
     "name": "stderr",
     "output_type": "stream",
     "text": [
      "C:\\Users\\yooji\\AppData\\Local\\Temp\\ipykernel_29096\\3804599114.py:20: LangChainDeprecationWarning: The method `BaseRetriever.get_relevant_documents` was deprecated in langchain-core 0.1.46 and will be removed in 1.0. Use invoke instead.\n",
      "  retrieved_docs = retriever.get_relevant_documents(subtopic)\n",
      "2024-11-15 17:58:49,390 - INFO - HTTP Request: POST https://api.openai.com/v1/embeddings \"HTTP/1.1 200 OK\"\n",
      "2024-11-15 17:58:49,953 - INFO - HTTP Request: POST https://api.openai.com/v1/embeddings \"HTTP/1.1 200 OK\"\n",
      "2024-11-15 17:58:50,647 - INFO - HTTP Request: POST https://api.openai.com/v1/embeddings \"HTTP/1.1 200 OK\"\n",
      "2024-11-15 17:58:50,944 - INFO - HTTP Request: POST https://api.openai.com/v1/embeddings \"HTTP/1.1 200 OK\"\n",
      "2024-11-15 17:58:51,372 - INFO - HTTP Request: POST https://api.openai.com/v1/embeddings \"HTTP/1.1 200 OK\"\n",
      "2024-11-15 17:58:51,917 - INFO - HTTP Request: POST https://api.openai.com/v1/embeddings \"HTTP/1.1 200 OK\"\n",
      "2024-11-15 17:58:52,403 - INFO - HTTP Request: POST https://api.openai.com/v1/embeddings \"HTTP/1.1 200 OK\"\n",
      "2024-11-15 17:58:52,704 - INFO - HTTP Request: POST https://api.openai.com/v1/embeddings \"HTTP/1.1 200 OK\"\n",
      "2024-11-15 17:58:53,368 - INFO - HTTP Request: POST https://api.openai.com/v1/embeddings \"HTTP/1.1 200 OK\"\n",
      "2024-11-15 17:58:53,785 - INFO - HTTP Request: POST https://api.openai.com/v1/embeddings \"HTTP/1.1 200 OK\"\n",
      "2024-11-15 17:58:54,032 - INFO - HTTP Request: POST https://api.openai.com/v1/embeddings \"HTTP/1.1 200 OK\"\n",
      "2024-11-15 17:58:54,431 - INFO - HTTP Request: POST https://api.openai.com/v1/embeddings \"HTTP/1.1 200 OK\"\n",
      "2024-11-15 17:58:54,861 - INFO - HTTP Request: POST https://api.openai.com/v1/embeddings \"HTTP/1.1 200 OK\"\n",
      "2024-11-15 17:58:55,077 - INFO - HTTP Request: POST https://api.openai.com/v1/embeddings \"HTTP/1.1 200 OK\"\n",
      "2024-11-15 17:58:55,484 - INFO - HTTP Request: POST https://api.openai.com/v1/embeddings \"HTTP/1.1 200 OK\"\n",
      "2024-11-15 17:58:55,755 - INFO - HTTP Request: POST https://api.openai.com/v1/embeddings \"HTTP/1.1 200 OK\"\n",
      "2024-11-15 17:58:56,080 - INFO - HTTP Request: POST https://api.openai.com/v1/embeddings \"HTTP/1.1 200 OK\"\n",
      "2024-11-15 17:58:56,571 - INFO - HTTP Request: POST https://api.openai.com/v1/embeddings \"HTTP/1.1 200 OK\"\n",
      "2024-11-15 17:58:56,844 - INFO - HTTP Request: POST https://api.openai.com/v1/embeddings \"HTTP/1.1 200 OK\"\n",
      "2024-11-15 17:58:57,263 - INFO - HTTP Request: POST https://api.openai.com/v1/embeddings \"HTTP/1.1 200 OK\"\n"
     ]
    },
    {
     "name": "stdout",
     "output_type": "stream",
     "text": [
      "[{'topic_id': 1, 'start_time': '65분 51초', 'end_time': '66분 36초', 'content': 'Q. 고지혈증 약을 끊었는데 영양제를 먹어야 할까요?', 'related_scripts': [{'time': '65분 51초', 'content': '선생님이 발갱곤 선생시거나 아니, 이게 해보니까 시간이 되게 촉박해서 여기 메일 적어주시면 제가 끝나고 좀 정리해서 좀 더 드리려고요. 예, 보내주신 거는 미리 읽어보고 아는데요, 고지혈증 약만 드시고 계신 거죠.'}, {'time': '66분 16초', 'content': '예, 근데 그것도 끊긴 했거든요. 당연히 끊는데 그 내과에서 안 먹었으면 좋겠다, 다른 그래갖고. 그때 비타민 이널 같은 것도 먹었는데 와이프가 챙겨줘서. 그때부터 이제 끊었는데 지금아주고 나이가 더 먹어가면서 기력도 없는 거 해서 그런 것도 영양제를 먹어야 되나 하거든요.'}]}, {'topic_id': 2, 'start_time': '66분 36초', 'end_time': '67분 51초', 'content': '[이렇게 하세요] 간 수치가 높다면 병원에서의 조언을 따르고, 간에 무리가 가지 않는 영양제를 선택하세요.', 'related_scripts': [{'time': '66분 36초', 'content': '근데 어떻게 해야 될지 모르겠어요. 왜 그런지 뭐 하면 간 수치가 항상 좀 높게 나와가지고 될 수 있으면. 병원에서 안 먹었으면 좋겠다는 그렇게 얘기를 하는데 지금도 계속 관리는 하고 있는데 어떻게 해야 될지 해가지고. 간수체가 최근에도 높았나요? 예, 아주 높은 건 아닙니다. 항 경고등에.'}]}, {'topic_id': 3, 'start_time': '67분 51초', 'end_time': '68분 52초', 'content': '[이렇게 하세요] 건선 약을 복용할 때 간 수치에 주의하고, 필요시 약을 중단하세요.', 'related_scripts': [{'time': '67분 51초', 'content': '때에 그랬어요. 건선 때문에 피부가 갔까운데 그래도 치가 너무 많이 올라가지고. 그래갖고 이제 내과 진료받는데 이제 약을 끊으니까 하는데, 그러니까 그게 근데 어쩔 수 없는 거 같아요. 선생님, 근데 건선에서 약을 안 먹으니까 차도가 근데 약을 먹자니 간 수치가 너무 많이 올라가가지고. 그래서 이제 바나히 약만 하고 나중에 술을 좀 줄이고 이렇게 하라고 하는데, 약을 먹으면 이게 바로 수치가 영향이. 있더라고요.'}, {'time': '68분 16초', 'content': '그러니까 이게 건강한 사람도 정상 간수치인 사람도 건선약을 쓰면 간수치가 오르는데 오른 것마저도 정상인 거죠. 그렇게 이해하시면 돼요. 그러니까 이게 이 기준을 많이 낮춰야 돼 까 평상시에 간수치가 내가 그런 약을 얼마든지 쓸 수 있으니까 그런 걸 대비해서 사실 정상입니다. 하는 수준에서 만족하는 게 아니고 더 내려놔야지. 저는 높으니까 먹으니까 더 높아져버려갖고 범위를 훨씬 넘어버린다 니다. 다른 분들도 낮으니까 먹어도 그 안전 범위에서 움직이. 정상 범위가 되게 크거든요. 그렇구나.'}]}, {'topic_id': 4, 'start_time': '69분 1초', 'end_time': '69분 26초', 'content': '[이렇게 하세요] 피로감이 있다면 건강식품을 섭취해도 좋습니다.', 'related_scripts': [{'time': '69분 1초', 'content': '항상 거 간하고 고지열게 그게 이제 체중에 따라서 좀 하니까 운동하고 반복적으로 얘기해가지고. 그러면 그리고 건강식품 같은 거, 선생님 얘기했던 기능식품 이런 거는 이제 먹어도 크게 영향은 없. 예, 그래서 피로감이 있다고 하면은 이제 속 예, 피로감이 있으시니까. 시력도 그렇고. 저는 드시게 사실 좋을 것 같아요. 네.'}]}, {'topic_id': 5, 'start_time': '69분 54초', 'end_time': '70분 21초', 'content': 'Q. 감기약은 약국에서 사는 것과 병원에서 처방받는 것 중 어느 것이 나을까요?', 'related_scripts': [{'time': '69분 54초', 'content': '근데 감기로만 비교를 하면 이제 그 약국에서 쓰는 약이나 병원, 약이나 차이는 그 한 가지예요. 항생제 쓰냐 아니냐, 예, 근데 항생제는 쓰는 경우는 병원 가도 이제 웬만한 감기는 항생제까지는 안 쓰는데, 이제 염증이 깊을 때에. 그래서 이제 그러면 코의 색깔도 누렇고, 가래 색깔도 누렇고, 이렇게 되면 이제 생항생제를. 했쓰러면 처방약을 먹어야지만.'}]}, {'topic_id': 6, 'start_time': '71분 5초', 'end_time': '71분 41초', 'content': '[이렇게 하세요] 감기 증상이 시작될 때 비타민을 섭취하여 면역력을 높이세요.', 'related_scripts': []}, {'topic_id': 7, 'start_time': '72분 8초', 'end_time': '72분 44초', 'content': '[바꾸세요] 종합 감기약 대신 증상에 맞는 약을 선택하세요.', 'related_scripts': []}, {'topic_id': 8, 'start_time': '73분 27초', 'end_time': '74분 2초', 'content': '[이렇게 하세요] 목이 아플 때는 타이레놀을 복용하세요.', 'related_scripts': [{'time': '73분 49초', 'content': '목부터 오시는 경우면 정말 그 목에 편도선 이런 데가 염증이 생기면 열이 진짜 쉽게 나요. 그래서 더 타이루널이 맞다고 느끼신 것 같아요. 예, 목이 부으니까.'}, {'time': '73분 27초', 'content': '저는 바로 이렇게 늘 비슷하죠. 목이 똑같아요. 목이 편도선이 약간 간질간질하면 좀 시작되나. 그러면 물을 많이 먹까 좀 하다가 그러면 이제 다음날 되면 좀 이제 목이 조금 아프고 그러면 이제 감기가 못부터 오거든요. 저는 누구든 좀 애들 코부터 오는 애들 까 하는데 저는 항상 못 감기.'}]}, {'topic_id': 9, 'start_time': '77분 7초', 'end_time': '79분 5초', 'content': 'Q. 일본에서 받은 영양제를 계속 먹어도 되나요?', 'related_scripts': [{'time': '77분 7초', 'content': '안녕하세요, 네, 안녕하세요, 이료사 있으신네요, 사는 주세요. 시원 내 내고 있어서 이것도 영양식품이라고 합다. 어떨지 모르겠네, 이런 것은 식품 좋습니다. 이 냥 야채 갈아놓은 거라 해래서 아침에 야채 갈서 먹고 있습다. 제가 야채 갖고 왔어요. 제가 아, 사실 와이프가 이렇게 챙겨주는데 이건 일본에서 선물 받은 거고 이거 하루 두 알씩. 아니, 저기 식기마자 두 알씩 해서 한 2주 먹으면 되게 위에 좋다고 얘기해서 그렇게 먹고 있는데 효과 좀 보셨어요. 이게 그니까 제가 예전에 여기 호스리의 4월에 왔는데, 그전에는 저기 제 출소 임산농무 부정을 해갖고 술자리가 많아서. 그래서 그때 아는 시연이 일본 출장 갔다가 술 먹고 나서 인제 다른 약도 입거 먹으면 속이 괜찮은 듯 그런 것 같더라고요. 맞아요. 이게 메가히트인데 이게 원료가 양대추 추출물이 제일 주 원료인데, 또 그런 십자학과의 식품들이 전막을 재생시켜주는 역할을 해요. 그래서 이제 술자리나 스트레스나 이런 게 이제 위산 때문에 위장이 공격당하는데 그걸 좀 빠르게 복구시키는 그런 역할 확실 좀 편하다는 느낌이 들어요. 근데 2주간을 매번 식사마다 두 알씩 먹고 2주간을 이렇게 하라고 하는데 그 괜찮나 싶기도 하고 이거는 계속 먹어도 상관없어요. 그래서 이거 이건 먹으면 되겠네, 아요? 그렇게 상비약처럼 뜨셔도 이거는 그냥 이냥 이 예, 그까요? 그냥 피곤할 때 예, 그렇죠, 뭐. 네, 프로가이오틱스 파이 요거는 꽤 많이 와이프가 사라졌고.'}]}, {'topic_id': 10, 'start_time': '79분 5초', 'end_time': '80분 24초', 'content': '[이렇게 하세요] 유산균은 여러 종류를 함께 먹어도 무방합니다.', 'related_scripts': [{'time': '79분 5초', 'content': '사실은 아침에 제가 아침 일찍 나올 때 일어나자마자 양치하고 물 먹고 이거 두 알씩 먹거든요. 이건 유산균, 근데 이것도 같이 이것도 유상균 종류인 것 같은데 같이 먹고 있어요. 근데 이게 둘 다 프로바이오티슨인데 둘 다 드시는 이유가 있을까요?'}, {'time': '79분 26초', 'content': '아니면 이게 구입하신 시점이 다르 타임 틀려서 이게 예전에 좀 먹던 거고 와이프 리는 먹어도 된다고 말씀. 유산규는 사실 더 먹어도 이제 크게 상관은 없어요. 근데 이제 그냥 또 구입하신다. 그러면 굳이 두 가지를 다 먹을 필요 사 놓게 남아서 이것도 술 많이 먹을 때 이거는 딸내미가 사다 준 건데 이것도 술 먹기 전에 먹으라고. 그래서 근데 여기선 술 많이 안 먹어요. 맞아요. 그 이거 적어주신 거 보니까 술자리가 많이 없는 느낌이긴 지금은 이제 그렇고. 요거는 이제 그 식물 추출물들이 주로 있는 건데, 이제 죠 위장이랑 그 간에 좋은 것들이 있는 거예요.'}]}, {'topic_id': 11, 'start_time': '83분 19초', 'end_time': '84분 10초', 'content': '[이렇게 하세요] 고지혈증 약을 중단했다면 피검사를 통해 상태를 확인하세요.', 'related_scripts': [{'time': '83분 57초', 'content': '그 고지혈증은 사실 일반 내과에서도 피만 뽑아서 검사할 수 있는 거라. 그 건강검진 날짜 작 어려우시면 일단은 그냥 내과에서 피검사해서 보셔도 될 것 같아요.'}]}, {'topic_id': 12, 'start_time': '84분 44초', 'end_time': '87분 26초', 'content': '[이렇게 하세요] 다양한 영양제를 섭취할 때 겹치지 않도록 주의하고, 항산화제에 집중하세요.', 'related_scripts': [{'time': '84분 44초', 'content': '그래서 하나씩 다 약간 겹치지 않게 와이프가 그쵸 네, 그까 봅니까? 이제 구매처도 다 다를 텐데 그렇다면 다 하나씩 들여다보고 고르신 거라서 예, 이런 관심이 많으신 분 같아요. 예, 근데 이제 이거를 그럼 이렇게 먹어야 내가 건강하냐라고 하면 또 그렇진 않을 거 같아요. 그래서 이리고 또 매일 짜죽는 돼 어쩌든 생각하시. 근데 이제 기본적으로 그러니까 유산견이 아침마다 나올 때 제가 깔히치면에서 물 먹고 두 발씩 으꿈 먹고 있고 프로피시하고 팔트미시즌. 그거는 당연히 이제 그냥 꾸준히 먹는 거고, 나머지 여기에 있는 몇 가지 정도는 제가 생각나서 이렇게 안 먹었으면 집에 들어가서. 먹기도 하고 이렇게 다 집에 가서는 먹지 말요. 이에 싸지니까 이걸 오래 다 먹는 거지, 너무 많아서. 근데 쉽게 보면 겹치는 게 없어서. 그냥 많은 종류의 반찬을 한 번에 먹는 거일 뿐. 위험하거나 그런 건 없어서 그런 걱정 안 하고 드셔도 될 것 같아요. 예, 그리고 사실 그중에서도 이제 항산화제들을 되게 많이 챙겨서 주시고 있어요. 요 맞항산화제 그거 그래서 항산화 역할하는 글루타치온 비타민 C. 코그엔자인 큐텐 스피룰리나 막 이렇게 그까 항산화라는 것에 되게 집중해서 약을 고르신 것 같다라는 생각이 들련 그죠. 노화방지 이런 걸로 많이 고르신 것 같아요. 그래도 유산균는 좀 스스로 챙겨 드시는 거면 좀 장이 좀 안 좋으시다는 느낌은 그거는 장이 안 좋고 그러지는 않는데. 와이프가 이상하게 유산균 음료에 되게 이거야, 이거 저거 되게 비싼 것도 있더라고요. 한 달에 몇 만원짜리 아니까 한 통에 라 예, 근데 딸내미도 그거 같이 먹고 가족들이 다 유산균 꼭 챙겨 먹는 대장이 나쁘다. 그러지는 않는데 그래서 그 대장이 나쁘면 그것부터 고치고요. 유상균이 예. 그래서 변비 설사 있다. 그러면 그거 문제하기에 이 균들이 다 싸우기 마련이고, 그게 좀 해결이 되고 나면 그다음부터는 장에서 사실 비타민도 생산하고요. 그리고 음식물로부터 들어오 영양소도 흡수하는 구간이 소장이에요. 그래서 이제 그때부터는 건강을 좋게 해주는 데 유상균이 쓰이고, 이제 그다음에는 정신건강에도 좋은 영향을 줘요. 이제 우리 장에서 분비되는 기분 좋을 때 나오는 그런 호르몬 물질들도 장에서 신호를 주기 때문. 그서 장이 좋아지면 사실 우울증에도 좀 더 그 방어력이 생기기도 하고.'}]}, {'topic_id': 13, 'start_time': '87분 57초', 'end_time': '88분 34초', 'content': '[이렇게 하세요] 고지혈증 약을 오래 복용했다면 코엔자임 Q10을 보충하세요.', 'related_scripts': []}, {'topic_id': 14, 'start_time': '89분 10초', 'end_time': '89분 30초', 'content': '[이렇게 하세요] 저녁 식사를 간단히 하고, 늦은 시간에는 식사를 피하세요.', 'related_scripts': [{'time': '89분 10초', 'content': '그쵸 자는 시간 이 좀 넘어 도착하는데, 그러면은 잠은 한 10시 반에서 11시에는 잘려고 그했어. 왜냐면 아침에 일어해야 돼서 그렇죠. 그때 집에 가서 먹으면 너무 늦으니까 시간이 좀 그런 거죠, 맞아요, 그럼 좋죠, 안 먹는 게 예, 칼로리가 이이죠.'}]}, {'topic_id': 15, 'start_time': '91분 30초', 'end_time': '92분 50초', 'content': '[이렇게 하세요] 저녁에 탄수화물 섭취를 줄이고, 고기나 채소 위주로 식사하세요.', 'related_scripts': [{'time': '92분 21초', 'content': '그래서 우리가 혈당이 급격히 떨어질 때 우리 몸을 위기라고 생각을 하고 잠을 깨게 돼 있어 예. 그래서 전 바로 전 식사가 조금 곧 탄수화물일 때 조금 더 수면의 질이 낮아지기도 하거든요. 그래서 저녁은 조금 더 고기나 채식 고기 채식으로 좀 더 가시면요. 쌀이나 이런 예, 그런 밀가루보다는 예, 그래서 계란이랑 당근 이런 거 드시는 게 정말 좋긴 해요.'}, {'time': '91분 30초', 'content': '소변이나 이런 것 들에 그 물을 먹지 말아야 되겠죠. 그죠, 그러니까 낮에는 많이 먹어도 저녁 이후에 물을 특히 그 물을 먹으면 소변을 보게 되잖아요, 그렇죠. 근데 중간에 곧 새벽에 소변 때에는 그럼 피곤하더라고요. 그리고 그 완전 공복으로 잤을 때 더 숙면도 취하고요. 그죠. 들, 그만큼 운동을 안 하니까 뇌도 좀 되겠죠. 네, 맞아요. 마지막 식사에 따라서도 좀 잠 깨는 게 다를 거예요. 예를 들어 이제 저녁에 약속이 있거나 해서 조금 더 탄수화물 위주의 식사를 한다. 그러면 이제 혈당이 그 쉽게 오르고 탄수화물이 소화 속도가 빠르니까 빨리 오르고 빨리 떨어져요.'}]}, {'topic_id': 16, 'start_time': '94분 8초', 'end_time': '95분 34초', 'content': '[이렇게 하세요] 잠이 오지 않을 때는 눈을 감고 휴식을 취하세요.', 'related_scripts': [{'time': '94분 8초', 'content': '예, 그런 걸 듣다 보면은 재미도 있고, 그러다가 잠자는 경우가 있는데 근데 언제부턴가 그것 때문에 잠을 못 자는 것 같아서 맞아요. 이거 그냥 안 듣는 게. 그러니까 이제 다 상대적인 건데 너무 생각이 많고 그런 사람들은 하나로 그 생각들을 하나로 모아주면 상대적으로 이제 정신이 단순화되는 거잖아요. 그래서 그 과정이 이제 어떤 사람에게는 잠이 드는데 좋은 거죠. 근데 이제 아예 없는 게 사실 더 좋은 거죠. 네, 그런 면에서 이제 너무 이제 생각이 많고 이럴 때 더 뻗쳐나가는 영상을 보는 것보다는 그게 나은 건데. 결국은 그걸 틀어놓고 자는 또 깊은 수면 가는 건 방해가 돼서. 네, 근데 어떤데 잠이 안 올 때. 특히 제 일요일날 월요일날 출근할 거 생각해서 그런지 일찍 일어나서 가야 되는데. 잠을 일찍 들려고 노력을 했는데 아침에 막 다섯. 시 전에 일어나서 제 출발을 해야 되니까 근데 잠이 안 오면 되게 불안해지잖아요. 되게 피곤할 텐데. 월요일날 가면 그것 때문에 인제 누워서 이렇게 더 그런 생각하면 잠이 안 오면 그 누워서 잠이 안 오면 되게 괴롭더라고요. 그래서 막 이걸 틀어놓기도 하고 또 잠도 안 오고. 그러다가 막 2시 넘어가 버리면 4시 반에 일어데 막 이런 분위이 들면 막 더 스트레스네 압박스럽고. 그냥 이렇게 그럴 때로 잠이 안 오 다 누워서 이렇게 하다 보면 잠이 오긴 오죠. 그렇죠, 오죠.'}]}, {'topic_id': 17, 'start_time': '97분 23초', 'end_time': '99분 43초', 'content': '[이렇게 하세요] 영양제를 제공할 때는 개인 맞춤형으로 제공하는 것이 좋습니다.', 'related_scripts': [{'time': '97분 56초', 'content': '혹시 그게 부작용이나 오남형의 여지가 있으면 그 책임을 또 회사가 또 부담을 가질 수도 있잖아요. 그래서 그거는 일단은 좀 생각하지 않고 그냥 한번 이게 상담서를 운영해 보자고 했는데 그런 경우가 있어요. 좀 회사에서든 이렇게 요런 거 공채 키트 형태를 만들어서든 직원들, 그니까 되게 좀 문제가 없는 그런 걸로 하는 거죠. 예, 저의 철학으로는 사실 약으로만 자꾸 건강관리하는 게 별로 안 좋다 생각이 들어서 저는 이렇게 상담 중에 영양제 필요하신 분 추천드리고. 하지만 그래도 운동도 꽤 강조하고 그런 편인데, 그래도 이렇게 대면에서 상담하기 어려울 때는 이제 그냥 복리우생. 차원에서는 영양제를 주로 그럴 때는 반짝하는 영양제를. 뿌리게 마련이죠. 바로 좀 효과 보게끔 하는 그래서 주로 그런 영업직에 계시는 그런 직군들에서 많이 찾으시는 것 같아요. 그래서 그런 거는 저희 같은 비영리 쪽을 컨택하기보단 이제 그렇게 큰 규모 큰 약국에 막 이렇게 계약해서 예, 그렇게 많이 하시죠. 그래서 저도 그니까 저도 오늘 상담해보면 상담하다가 결국 추천 역량제를 많이 말씀드리게 돼요. 그래서 만약에 이제 이후에 우리가 또 한다, 그러면 저는 이제 일괄 이렇게 제가 그냥 가져왔는데. 사실상 그냥 좀 시간 여유를 두고 상담 후에 추천 영양제를 각자에게 좀 더 맞춤형으로 제공할 수도 있겠다. 제가 또 약국이 있으니까 그렇게 해도 좋을 것 같아요. 예. 고민하. 근데 하여튼간 좋은 의미로 이게 제공을 했는데.'}, {'time': '97분 23초', 'content': '인니 과장이로도 이렇게 좀 요번에 인연이 돼서 제가 한번 그 직원들, 특히 연구원들은 여기 석박사들인데 대부분 다 과제 계속 스트레스거든요. 변적 스트레스가 심하거든요. 그래서 이걸 한번 해보자고 했고, 제가 얼핏 어떤 제가 아는 지인은 일정한 그 영양제 같은 거. 이렇게 크게 문제가 없는 거를 회사 일부를 구입해서 이렇게 주는 게 되게 효과가 좋았다. 근데 저는 이제 그런 약을 임의를 주는 게 잘 맞는 사람은 괜찮겠지만.'}]}, {'topic_id': 18, 'start_time': '106분 16초', 'end_time': '107분 25초', 'content': '[이렇게 하세요] 탈모 치료제를 장기 복용해도 되며, 호르몬제가 포함되지 않은 제품을 선택하세요.', 'related_scripts': []}, {'topic_id': 19, 'start_time': '110분 54초', 'end_time': '112분 49초', 'content': '[이렇게 하세요] 갱년기 증상이 있다면 여성호르몬 검사를 받고, 필요시 호르몬 치료를 고려하세요.', 'related_scripts': [{'time': '110분 54초', 'content': '그렇게 있기는 한데 이번에 건강검진 이제 다음 주에 하는데 여성호르몬 검사하기는 할 건데 만약에 그거를 이렇게서 여성호르몬 처방을 받게 되고, 그러면 만약에 그러면 어떻게 해야 돼요? 약을 먹어야 돼. 근데 사실 그 여성호르몬 수치가 떨어져서 먹게 되면 되게 유익한 효과가 많아요. 사실 골다공증도 예방이 되고 말씀하신 그런 갱년기 증상도 훨씬 수월해지니까.'}, {'time': '111분 24초', 'content': '근데 이제 단점은 그게 이제 바람, 그 유방한 확률을 높인다 이런 거죠. 그래서 이제 그 약물을 먹으면 유방암 검사를 이제 주기적으로 하면서 먹어요. 예, 근데 또 그게 또 장점이 그 단점인데 장점이. 유방암이 사실 누구나 생길 수 있는데 오히려 검사를 더 자주 하게 되니까 초기 발견을 하는 경우가 있어요. 그래서 자주는 거 어느 정도 1년에 한 번씩 가는데 더 자주 해야 되나, 1년에 한 번씩 가게 되죠. 예, 그니까 그 정 그런 장단점이 있는 거예요. 그래서 노가 유익해요. 골다공증 예방, 골다공증 예방이라 노화가 훨씬 더디게 오죠. 호르몬 수치가 채워지면 네, 그런 갱년기 증상들도 훨씬 수월하게 편하게 지나가시고, 그래서 그니까 그 기준을 그래서 잡는 거예요. 너무 떨어져 있으면. 그래서 약물치료가 더 유익하다라고 보는 거죠. 검사해보고 결과에 따라서 이제 하면 되겠네요. 그래서 그 치료 기간이 길어지면은 그까 호르 문제를 먹으면 그 기간이 길어질수록 그런 유방할 확률도 같이 길어지 높아지는 거라서. 그래서 보통 갱년기는 그 기간을 말하죠. 우리가 호르몬 수치는 어차피 떨어지는데 이게 급격히 떨어지는 고 시간에 우리 신체 변화에 적응을 못해서 힘이 든 거니까 그래서요. 갱년기 기간 동안만 사실 호르몬 치료를 해요.'}]}, {'topic_id': 20, 'start_time': '113분 40초', 'end_time': '114분 14초', 'content': '[이렇게 하세요] 오메가 3는 작은 생선에서 추출된 제품을 선택하세요.', 'related_scripts': [{'time': '113분 40초', 'content': '그래서 그런 거를 원료를 원래 표시시하는 게 어디서 추출했는지 의무가 아니에요. 그래서 이제 요것도 그냥 어유까지만 표시가 된 거예요. 그래서 이 만약에 저도 고를 때 보면 이 어유 되면 이게 연 큰 건지 아닌 건지 모르죠. 모르는데 사실 가성비상 큰 거에서 추출하는 게 사실 가성비가 더 떨어져요. 그래서 이제 요즘은 거의 작은 생선에서 다 추출되고 있다고 보시면 돼요. 근데 진짜 시간분이 너무 짧다.'}]}]\n"
     ]
    }
   ],
   "source": [
    "def time_str_to_ms(time_str):\n",
    "    match = re.match(r'(\\d+)분 (\\d+)초', time_str)\n",
    "    if match:\n",
    "        minutes = int(match.group(1))\n",
    "        seconds = int(match.group(2))\n",
    "        return (minutes * 60 + seconds) * 1000\n",
    "    else:\n",
    "        logging.warning(f\"시간 형식이 일치하지 않습니다: {time_str}\")\n",
    "        return 0\n",
    "    \n",
    "json_results = []\n",
    "        \n",
    "        # 주제별 루프 처리\n",
    "for idx, (start_time_str, end_time_str, content) in enumerate(subtopics, 1):\n",
    "    subtopic = content.strip()\n",
    "    start_time_ms = time_str_to_ms(start_time_str)\n",
    "    end_time_ms = time_str_to_ms(end_time_str)\n",
    "    \n",
    "    # 해당 시간 범위 내에서 retrieve\n",
    "    retrieved_docs = retriever.get_relevant_documents(subtopic)\n",
    "    \n",
    "    relevant_docs = [\n",
    "        doc for doc in retrieved_docs\n",
    "        if start_time_ms <= doc.metadata['start_at'] <= end_time_ms\n",
    "    ]\n",
    "    \n",
    "    # 관련 스크립트 생성\n",
    "    related_scripts = [\n",
    "        {\n",
    "            \"time\": ms_to_minutes_seconds_str(doc.metadata['start_at']),\n",
    "            \"content\": doc.page_content\n",
    "        } for doc in relevant_docs\n",
    "    ]\n",
    "    \n",
    "    # 주제별 데이터를 딕셔너리로 저장\n",
    "    json_result = {\n",
    "        \"topic_id\": idx,\n",
    "        \"start_time\": start_time_str,\n",
    "        \"end_time\": end_time_str,\n",
    "        \"content\": subtopic,\n",
    "        \"related_scripts\": related_scripts\n",
    "    }\n",
    "    json_results.append(json_result)\n",
    "print(json_results)"
   ]
  },
  {
   "cell_type": "code",
   "execution_count": 12,
   "metadata": {
    "executionInfo": {
     "elapsed": 2,
     "status": "ok",
     "timestamp": 1729263116942,
     "user": {
      "displayName": "유지현",
      "userId": "01868051154728111847"
     },
     "user_tz": -540
    },
    "id": "oYmGvikNBGI1"
   },
   "outputs": [
    {
     "name": "stdout",
     "output_type": "stream",
     "text": [
      "{'topic_id': 1, 'start_time': '65분 51초', 'end_time': '66분 36초', 'content': 'Q. 고지혈증 약을 끊었는데 영양제를 먹어야 할까요?', 'related_scripts': [{'time': '65분 51초', 'content': '선생님이 발갱곤 선생시거나 아니, 이게 해보니까 시간이 되게 촉박해서 여기 메일 적어주시면 제가 끝나고 좀 정리해서 좀 더 드리려고요. 예, 보내주신 거는 미리 읽어보고 아는데요, 고지혈증 약만 드시고 계신 거죠.'}, {'time': '66분 16초', 'content': '예, 근데 그것도 끊긴 했거든요. 당연히 끊는데 그 내과에서 안 먹었으면 좋겠다, 다른 그래갖고. 그때 비타민 이널 같은 것도 먹었는데 와이프가 챙겨줘서. 그때부터 이제 끊었는데 지금아주고 나이가 더 먹어가면서 기력도 없는 거 해서 그런 것도 영양제를 먹어야 되나 하거든요.'}]}\n"
     ]
    }
   ],
   "source": [
    "print(json_results[0])"
   ]
  },
  {
   "cell_type": "code",
   "execution_count": 13,
   "metadata": {},
   "outputs": [
    {
     "name": "stdout",
     "output_type": "stream",
     "text": [
      "JSON results saved to rag_topic_result.json\n"
     ]
    }
   ],
   "source": [
    "output_filename = 'rag_topic_result.json'\n",
    "\n",
    "# Write json_results to a JSON file\n",
    "with open(output_filename, 'w', encoding='utf-8') as f:\n",
    "    json.dump(json_results, f, ensure_ascii=False, indent=4)\n",
    "\n",
    "print(f\"JSON results saved to {output_filename}\")"
   ]
  },
  {
   "cell_type": "markdown",
   "metadata": {},
   "source": [
    "Next steps:\n",
    "\n",
    "to create docker and upload to lambda,\n",
    " docker buildx use mybuilder2\n",
    "docker buildx build --platform linux/amd64 --load -t tenten_ai_topic .\n",
    "docker tag tenten_ai_topic:latest 820604767531.dkr.ecr.ap-northeast-2.amazonaws.com/tenten_ai_topic:latest\n",
    "docker push 820604767531.dkr.ecr.ap-northeast-2.amazonaws.com/tenten_ai_topic:latest"
   ]
  },
  {
   "cell_type": "code",
   "execution_count": null,
   "metadata": {},
   "outputs": [],
   "source": [
    "If you use docker buildx, make sure to reuse the builder instance rather than creating a new one every time:\n",
    "bash\n",
    "Copy code\n",
    "# Create the builder only once\n",
    "docker buildx create --use --name mybuilder\n",
    "Then, you can use the existing builder for subsequent builds:\n",
    "bash\n",
    "Copy code\n",
    "docker buildx use mybuilder\n",
    "docker buildx build --platform linux/amd64 --load -t tenten_ai_topic .\n"
   ]
  },
  {
   "cell_type": "code",
   "execution_count": null,
   "metadata": {},
   "outputs": [],
   "source": []
  },
  {
   "cell_type": "code",
   "execution_count": null,
   "metadata": {},
   "outputs": [],
   "source": []
  }
 ],
 "metadata": {
  "colab": {
   "authorship_tag": "ABX9TyMlVtXg7g26PnU+AN2HzD4u",
   "mount_file_id": "1gNrx_IpjBAg8HPBr_yztv8Cf-z5E8vqN",
   "provenance": []
  },
  "kernelspec": {
   "display_name": "CV용 Kernel",
   "language": "python",
   "name": "cs484_hw"
  },
  "language_info": {
   "codemirror_mode": {
    "name": "ipython",
    "version": 3
   },
   "file_extension": ".py",
   "mimetype": "text/x-python",
   "name": "python",
   "nbconvert_exporter": "python",
   "pygments_lexer": "ipython3",
   "version": "3.8.19"
  }
 },
 "nbformat": 4,
 "nbformat_minor": 0
}
