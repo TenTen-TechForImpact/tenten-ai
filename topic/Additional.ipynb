{
 "cells": [
  {
   "cell_type": "code",
   "execution_count": 1,
   "metadata": {
    "colab": {
     "base_uri": "https://localhost:8080/"
    },
    "collapsed": true,
    "executionInfo": {
     "elapsed": 42592,
     "status": "ok",
     "timestamp": 1729261369990,
     "user": {
      "displayName": "유지현",
      "userId": "01868051154728111847"
     },
     "user_tz": -540
    },
    "id": "zYQgKZlprwnF",
    "outputId": "892a1564-c02a-486d-8029-d790db21e728"
   },
   "outputs": [
    {
     "name": "stdout",
     "output_type": "stream",
     "text": [
      "Note: you may need to restart the kernel to use updated packages.\n"
     ]
    }
   ],
   "source": [
    "!pip install --quiet -U langchain langchain-openai\n",
    "%pip install --quiet --upgrade langchain langchain-community langchain-chroma\n"
   ]
  },
  {
   "cell_type": "code",
   "execution_count": null,
   "metadata": {},
   "outputs": [
    {
     "name": "stdout",
     "output_type": "stream",
     "text": [
      "Collecting supabase\n",
      "  Downloading supabase-2.6.0-py3-none-any.whl.metadata (9.3 kB)\n",
      "Collecting gotrue<3.0,>=1.3 (from supabase)\n",
      "  Downloading gotrue-2.9.2-py3-none-any.whl.metadata (6.0 kB)\n",
      "Requirement already satisfied: httpx<0.28,>=0.24 in c:\\users\\yooji\\anaconda3\\envs\\cs484_hw\\lib\\site-packages (from supabase) (0.27.0)\n",
      "Collecting postgrest<0.17.0,>=0.14 (from supabase)\n",
      "  Downloading postgrest-0.16.11-py3-none-any.whl.metadata (5.1 kB)\n",
      "Collecting realtime<2.0.0,>=1.0.0 (from supabase)\n",
      "  Downloading realtime-1.0.6-py3-none-any.whl.metadata (2.6 kB)\n",
      "Collecting storage3<0.8.0,>=0.5.3 (from supabase)\n",
      "  Downloading storage3-0.7.7-py3-none-any.whl.metadata (1.9 kB)\n",
      "Collecting supafunc<0.6.0,>=0.3.1 (from supabase)\n",
      "  Downloading supafunc-0.5.1-py3-none-any.whl.metadata (1.2 kB)\n",
      "Requirement already satisfied: pydantic<3,>=1.10 in c:\\users\\yooji\\anaconda3\\envs\\cs484_hw\\lib\\site-packages (from gotrue<3.0,>=1.3->supabase) (2.9.2)\n",
      "Requirement already satisfied: anyio in c:\\users\\yooji\\anaconda3\\envs\\cs484_hw\\lib\\site-packages (from httpx<0.28,>=0.24->supabase) (4.2.0)\n",
      "Requirement already satisfied: certifi in c:\\users\\yooji\\anaconda3\\envs\\cs484_hw\\lib\\site-packages (from httpx<0.28,>=0.24->supabase) (2024.8.30)\n",
      "Requirement already satisfied: httpcore==1.* in c:\\users\\yooji\\anaconda3\\envs\\cs484_hw\\lib\\site-packages (from httpx<0.28,>=0.24->supabase) (1.0.2)\n",
      "Requirement already satisfied: idna in c:\\users\\yooji\\anaconda3\\envs\\cs484_hw\\lib\\site-packages (from httpx<0.28,>=0.24->supabase) (3.7)\n",
      "Requirement already satisfied: sniffio in c:\\users\\yooji\\anaconda3\\envs\\cs484_hw\\lib\\site-packages (from httpx<0.28,>=0.24->supabase) (1.3.0)\n",
      "Requirement already satisfied: h11<0.15,>=0.13 in c:\\users\\yooji\\anaconda3\\envs\\cs484_hw\\lib\\site-packages (from httpcore==1.*->httpx<0.28,>=0.24->supabase) (0.14.0)\n",
      "Collecting deprecation<3.0.0,>=2.1.0 (from postgrest<0.17.0,>=0.14->supabase)\n",
      "  Downloading deprecation-2.1.0-py2.py3-none-any.whl.metadata (4.6 kB)\n",
      "Collecting strenum<0.5.0,>=0.4.9 (from postgrest<0.17.0,>=0.14->supabase)\n",
      "  Downloading StrEnum-0.4.15-py3-none-any.whl.metadata (5.3 kB)\n",
      "Requirement already satisfied: python-dateutil<3.0.0,>=2.8.1 in c:\\users\\yooji\\anaconda3\\envs\\cs484_hw\\lib\\site-packages (from realtime<2.0.0,>=1.0.0->supabase) (2.9.0.post0)\n",
      "Collecting typing-extensions<5.0.0,>=4.12.2 (from realtime<2.0.0,>=1.0.0->supabase)\n",
      "  Using cached typing_extensions-4.12.2-py3-none-any.whl.metadata (3.0 kB)\n",
      "Collecting websockets<13,>=11 (from realtime<2.0.0,>=1.0.0->supabase)\n",
      "  Downloading websockets-12.0-cp38-cp38-win_amd64.whl.metadata (6.8 kB)\n",
      "Requirement already satisfied: packaging in c:\\users\\yooji\\anaconda3\\envs\\cs484_hw\\lib\\site-packages (from deprecation<3.0.0,>=2.1.0->postgrest<0.17.0,>=0.14->supabase) (24.1)\n",
      "Collecting h2<5,>=3 (from httpx[http2]<0.28,>=0.26->gotrue<3.0,>=1.3->supabase)\n",
      "  Downloading h2-4.1.0-py3-none-any.whl.metadata (3.6 kB)\n",
      "Requirement already satisfied: annotated-types>=0.6.0 in c:\\users\\yooji\\anaconda3\\envs\\cs484_hw\\lib\\site-packages (from pydantic<3,>=1.10->gotrue<3.0,>=1.3->supabase) (0.7.0)\n",
      "Requirement already satisfied: pydantic-core==2.23.4 in c:\\users\\yooji\\anaconda3\\envs\\cs484_hw\\lib\\site-packages (from pydantic<3,>=1.10->gotrue<3.0,>=1.3->supabase) (2.23.4)\n",
      "Requirement already satisfied: six>=1.5 in c:\\users\\yooji\\anaconda3\\envs\\cs484_hw\\lib\\site-packages (from python-dateutil<3.0.0,>=2.8.1->realtime<2.0.0,>=1.0.0->supabase) (1.16.0)\n",
      "Requirement already satisfied: exceptiongroup>=1.0.2 in c:\\users\\yooji\\anaconda3\\envs\\cs484_hw\\lib\\site-packages (from anyio->httpx<0.28,>=0.24->supabase) (1.2.0)\n",
      "Collecting hyperframe<7,>=6.0 (from h2<5,>=3->httpx[http2]<0.28,>=0.26->gotrue<3.0,>=1.3->supabase)\n",
      "  Downloading hyperframe-6.0.1-py3-none-any.whl.metadata (2.7 kB)\n",
      "Collecting hpack<5,>=4.0 (from h2<5,>=3->httpx[http2]<0.28,>=0.26->gotrue<3.0,>=1.3->supabase)\n",
      "  Downloading hpack-4.0.0-py3-none-any.whl.metadata (2.5 kB)\n",
      "Downloading supabase-2.6.0-py3-none-any.whl (16 kB)\n",
      "Downloading gotrue-2.9.2-py3-none-any.whl (48 kB)\n",
      "Downloading postgrest-0.16.11-py3-none-any.whl (21 kB)\n",
      "Downloading realtime-1.0.6-py3-none-any.whl (9.0 kB)\n",
      "Downloading storage3-0.7.7-py3-none-any.whl (16 kB)\n",
      "Downloading supafunc-0.5.1-py3-none-any.whl (6.4 kB)\n",
      "Downloading deprecation-2.1.0-py2.py3-none-any.whl (11 kB)\n",
      "Downloading StrEnum-0.4.15-py3-none-any.whl (8.9 kB)\n",
      "Using cached typing_extensions-4.12.2-py3-none-any.whl (37 kB)\n",
      "Downloading websockets-12.0-cp38-cp38-win_amd64.whl (124 kB)\n",
      "Downloading h2-4.1.0-py3-none-any.whl (57 kB)\n",
      "Downloading hpack-4.0.0-py3-none-any.whl (32 kB)\n",
      "Downloading hyperframe-6.0.1-py3-none-any.whl (12 kB)\n",
      "Installing collected packages: strenum, websockets, typing-extensions, hyperframe, hpack, deprecation, realtime, h2, supafunc, storage3, postgrest, gotrue, supabase\n",
      "  Attempting uninstall: websockets\n",
      "    Found existing installation: websockets 13.1\n",
      "    Uninstalling websockets-13.1:\n",
      "      Successfully uninstalled websockets-13.1\n",
      "  Attempting uninstall: typing-extensions\n",
      "    Found existing installation: typing_extensions 4.11.0\n",
      "    Uninstalling typing_extensions-4.11.0:\n",
      "      Successfully uninstalled typing_extensions-4.11.0\n",
      "Successfully installed deprecation-2.1.0 gotrue-2.9.2 h2-4.1.0 hpack-4.0.0 hyperframe-6.0.1 postgrest-0.16.11 realtime-1.0.6 storage3-0.7.7 strenum-0.4.15 supabase-2.6.0 supafunc-0.5.1 typing-extensions-4.12.2 websockets-12.0\n"
     ]
    }
   ],
   "source": [
    "!pip install --quiet supabase"
   ]
  },
  {
   "cell_type": "code",
   "execution_count": 4,
   "metadata": {
    "colab": {
     "base_uri": "https://localhost:8080/"
    },
    "executionInfo": {
     "elapsed": 2536,
     "status": "ok",
     "timestamp": 1729261372518,
     "user": {
      "displayName": "유지현",
      "userId": "01868051154728111847"
     },
     "user_tz": -540
    },
    "id": "NSbgUxCIr0YY",
    "outputId": "1da637af-ac26-4255-f39b-44c71840362f"
   },
   "outputs": [
    {
     "name": "stdout",
     "output_type": "stream",
     "text": [
      "OpenAI API: sk-p********\n",
      "LangChain API Key: lsv2********\n"
     ]
    }
   ],
   "source": [
    "import os\n",
    "from supabase import create_client, Client\n",
    "\n",
    "openai_api_key = os.getenv(\"OPENAI_API_KEY_1010\")\n",
    "langchain_api_key = os.getenv(\"LANGCHAIN_API_KEY\")\n",
    "\n",
    "print(f\"OpenAI API: {openai_api_key[:4]}********\")\n",
    "print(f\"LangChain API Key: {langchain_api_key[:4]}********\")\n",
    "\n",
    "os.environ[\"OPENAI_API_KEY\"] = openai_api_key\n",
    "os.environ[\"LANGCHAIN_PROJECT\"] = \"tech4impact_1010\"\n",
    "os.environ[\"LANGCHAIN_API_KEY\"] = langchain_api_key\n",
    "os.environ[\"LANGCHAIN_TRACING_V2\"] = \"true\"\n",
    "\n",
    "SUPABASE_URL = os.getenv(\"NEXT_PUBLIC_SUPABASE_URL\")\n",
    "SUPABASE_KEY = os.getenv(\"NEXT_PUBLIC_SUPABASE_SERVICE_KEY\")\n",
    "supabase: Client = create_client(SUPABASE_URL, SUPABASE_KEY)\n",
    "\n"
   ]
  },
  {
   "cell_type": "markdown",
   "metadata": {
    "id": "y83M8arbsJXm"
   },
   "source": [
    "LangSmith Setup (LLM Logging)\n"
   ]
  },
  {
   "cell_type": "code",
   "execution_count": 5,
   "metadata": {
    "colab": {
     "base_uri": "https://localhost:8080/"
    },
    "executionInfo": {
     "elapsed": 4016,
     "status": "ok",
     "timestamp": 1729261376523,
     "user": {
      "displayName": "유지현",
      "userId": "01868051154728111847"
     },
     "user_tz": -540
    },
    "id": "XKyEBNzq9F9n",
    "outputId": "9f0cc511-2df3-48cf-d0f1-eb8e2a64fccd"
   },
   "outputs": [
    {
     "data": {
      "text/plain": [
       "AIMessage(content='Hello! How can I assist you today?', additional_kwargs={'refusal': None}, response_metadata={'token_usage': {'completion_tokens': 9, 'prompt_tokens': 11, 'total_tokens': 20, 'completion_tokens_details': {'audio_tokens': 0, 'reasoning_tokens': 0, 'accepted_prediction_tokens': 0, 'rejected_prediction_tokens': 0}, 'prompt_tokens_details': {'audio_tokens': 0, 'cached_tokens': 0}}, 'model_name': 'gpt-3.5-turbo-0125', 'system_fingerprint': None, 'finish_reason': 'stop', 'logprobs': None}, id='run-5618e33f-9827-463d-b0f0-7fad4af6f599-0', usage_metadata={'input_tokens': 11, 'output_tokens': 9, 'total_tokens': 20})"
      ]
     },
     "execution_count": 5,
     "metadata": {},
     "output_type": "execute_result"
    }
   ],
   "source": [
    "from langchain_openai import ChatOpenAI\n",
    "\n",
    "llm = ChatOpenAI()\n",
    "llm.invoke(\"Hello, world!\")"
   ]
  },
  {
   "cell_type": "markdown",
   "metadata": {
    "id": "3-MxNp0BxHde"
   },
   "source": [
    "Starts from now"
   ]
  },
  {
   "cell_type": "code",
   "execution_count": 6,
   "metadata": {
    "executionInfo": {
     "elapsed": 411,
     "status": "ok",
     "timestamp": 1729263038728,
     "user": {
      "displayName": "유지현",
      "userId": "01868051154728111847"
     },
     "user_tz": -540
    },
    "id": "_XNUzGYHv8_t"
   },
   "outputs": [],
   "source": [
    "import os\n",
    "import json\n",
    "import getpass\n",
    "import logging \n",
    "# Set your OpenAI API key\n",
    "#os.environ[\"OPENAI_API_KEY\"] = getpass.getpass(\"Enter your OpenAI API key: \")\n",
    "from langchain.docstore.document import Document\n",
    "from langchain.text_splitter import RecursiveCharacterTextSplitter\n",
    "from langchain.embeddings import OpenAIEmbeddings\n",
    "from langchain.vectorstores import Chroma\n",
    "from langchain.llms import OpenAI\n",
    "from langchain.chat_models import ChatOpenAI\n",
    "\n",
    "from langchain.prompts import PromptTemplate\n",
    "from langchain.chains import LLMChain\n",
    "\n",
    "from langchain.chains import create_retrieval_chain\n",
    "from langchain.chains.combine_documents import create_stuff_documents_chain\n",
    "from langchain_core.prompts import ChatPromptTemplate\n",
    "from langchain.chains import RetrievalQA\n",
    "\n"
   ]
  },
  {
   "cell_type": "code",
   "execution_count": 7,
   "metadata": {
    "colab": {
     "base_uri": "https://localhost:8080/"
    },
    "executionInfo": {
     "elapsed": 384,
     "status": "ok",
     "timestamp": 1729261489614,
     "user": {
      "displayName": "유지현",
      "userId": "01868051154728111847"
     },
     "user_tz": -540
    },
    "id": "U4H_5XiexsJR",
    "outputId": "eed29449-8112-4542-96f4-1e424ec3358b"
   },
   "outputs": [],
   "source": [
    "logging.basicConfig(level=logging.INFO, format='%(asctime)s - %(levelname)s - %(message)s')\n"
   ]
  },
  {
   "cell_type": "code",
   "execution_count": 8,
   "metadata": {
    "executionInfo": {
     "elapsed": 385,
     "status": "ok",
     "timestamp": 1729266747911,
     "user": {
      "displayName": "유지현",
      "userId": "01868051154728111847"
     },
     "user_tz": -540
    },
    "id": "HtokP9uDxP-O"
   },
   "outputs": [
    {
     "name": "stderr",
     "output_type": "stream",
     "text": [
      "2024-11-08 15:24:23,647 - INFO - 총 403개의 문서 생성.\n"
     ]
    }
   ],
   "source": [
    "def ms_to_minutes_seconds_str(milliseconds):\n",
    "    seconds = milliseconds // 1000  # 총 초\n",
    "    minutes = seconds // 60  # 분 계산\n",
    "    remaining_seconds = seconds % 60  # 남은 초 계산\n",
    "    return f\"{minutes}분 {remaining_seconds}초\"  # 출력 형식\n",
    "\n",
    "# 파일 \n",
    "with open('transcription.json', 'r', encoding='utf-8') as f:\n",
    "    data = json.load(f)\n",
    "\n",
    "utterances = data['utterances']\n",
    "\n",
    "n = 3941239\n",
    "\n",
    "# 발화를 Document 객체로 생성\n",
    "filtered_documents = [\n",
    "    Document(\n",
    "        page_content=utterance['msg'],\n",
    "        metadata={\n",
    "            'start_at': utterance['start_at'],\n",
    "            'duration': utterance['duration'],\n",
    "            'speaker': utterance['spk'],\n",
    "            'speaker_type': utterance['spk_type']\n",
    "        }\n",
    "    )\n",
    "    for utterance in utterances if utterance['start_at'] > n\n",
    "]\n",
    "logging.info(f\"총 {len(filtered_documents)}개의 문서 생성.\")\n",
    "\n",
    "# 시작 시간 기준으로 정렬\n",
    "documents = sorted(filtered_documents, key=lambda doc: doc.metadata['start_at'])\n"
   ]
  },
  {
   "cell_type": "code",
   "execution_count": null,
   "metadata": {
    "colab": {
     "base_uri": "https://localhost:8080/"
    },
    "executionInfo": {
     "elapsed": 7124,
     "status": "ok",
     "timestamp": 1729261501270,
     "user": {
      "displayName": "유지현",
      "userId": "01868051154728111847"
     },
     "user_tz": -540
    },
    "id": "pHkD49XIySAF",
    "outputId": "d6683768-f12c-4b9c-de33-a8d51f8a81dc"
   },
   "outputs": [
    {
     "name": "stderr",
     "output_type": "stream",
     "text": [
      "C:\\Users\\yooji\\AppData\\Local\\Temp\\ipykernel_21116\\3297828087.py:7: LangChainDeprecationWarning: The class `ChatOpenAI` was deprecated in LangChain 0.0.10 and will be removed in 1.0. An updated version of the class exists in the langchain-openai package and should be used instead. To use it run `pip install -U langchain-openai` and import as `from langchain_openai import ChatOpenAI`.\n",
      "  llm = ChatOpenAI(model_name=\"gpt-4o\", temperature=0)\n",
      "C:\\Users\\yooji\\AppData\\Local\\Temp\\ipykernel_21116\\3297828087.py:12: LangChainDeprecationWarning: The class `OpenAIEmbeddings` was deprecated in LangChain 0.0.9 and will be removed in 1.0. An updated version of the class exists in the langchain-openai package and should be used instead. To use it run `pip install -U langchain-openai` and import as `from langchain_openai import OpenAIEmbeddings`.\n",
      "  embeddings = OpenAIEmbeddings()\n",
      "2024-11-08 15:24:32,733 - INFO - Anonymized telemetry enabled. See                     https://docs.trychroma.com/telemetry for more information.\n",
      "2024-11-08 15:24:36,482 - INFO - HTTP Request: POST https://api.openai.com/v1/embeddings \"HTTP/1.1 200 OK\"\n"
     ]
    }
   ],
   "source": [
    "full_text = ''\n",
    "for doc in documents:\n",
    "    start_time_str = ms_to_minutes_seconds_str(doc.metadata['start_at'])\n",
    "    full_text += f\"[{start_time_str}] {doc.page_content}\\n\"\n",
    "\n",
    "\n",
    "# 언어 모델 초기화 # mini 버전 써보기\n",
    "llm = ChatOpenAI(model_name=\"gpt-4o\", temperature=0)\n",
    "\n",
    "\n",
    "\n",
    "# 임베딩 및 벡터스토어 초기화\n",
    "embeddings = OpenAIEmbeddings()\n",
    "vectorstore = Chroma.from_documents(documents, embeddings, persist_directory=None)\n",
    "\n",
    "# 리트리버 \n",
    "retriever = vectorstore.as_retriever(search_kwargs={\"k\": 5})\n"
   ]
  },
  {
   "cell_type": "code",
   "execution_count": 10,
   "metadata": {
    "executionInfo": {
     "elapsed": 18,
     "status": "ok",
     "timestamp": 1729261501271,
     "user": {
      "displayName": "유지현",
      "userId": "01868051154728111847"
     },
     "user_tz": -540
    },
    "id": "LHWEiuYDyTV5"
   },
   "outputs": [
    {
     "name": "stderr",
     "output_type": "stream",
     "text": [
      "C:\\Users\\yooji\\AppData\\Local\\Temp\\ipykernel_21116\\1108946316.py:48: LangChainDeprecationWarning: The method `Chain.__call__` was deprecated in langchain 0.1.0 and will be removed in 1.0. Use invoke instead.\n",
      "  response = rag_chain({\"query\": prompt.format(text=full_text)})\n",
      "2024-11-08 15:26:40,892 - INFO - HTTP Request: POST https://api.openai.com/v1/embeddings \"HTTP/1.1 200 OK\"\n",
      "2024-11-08 15:26:51,960 - INFO - HTTP Request: POST https://api.openai.com/v1/chat/completions \"HTTP/1.1 200 OK\"\n"
     ]
    },
    {
     "name": "stdout",
     "output_type": "stream",
     "text": [
      "=== Session Summary ===\n",
      "**66분 8초 ~ 66분 42초**\n",
      "- Q. 고지혈증 약을 끊었는데, 영양제를 먹어야 할까요?\n",
      "\n",
      "**67분 4초 ~ 67분 19초**\n",
      "- [이렇게 하세요] 간 수치가 높지 않다면, 영양제를 드셔도 괜찮습니다.\n",
      "\n",
      "**69분 10초 ~ 69분 15초**\n",
      "- [이렇게 하세요] 피로감이 있다면, 영양제를 드시는 것이 좋습니다.\n",
      "\n",
      "**69분 29초 ~ 70분 40초**\n",
      "- Q. 병원에서 처방받은 약과 약국에서 구입한 약의 차이는 무엇인가요?\n",
      "\n",
      "**71분 5초 ~ 71분 10초**\n",
      "- [바꾸세요] 감기 초기에 비타민을 섭취하여 면역력을 높이세요.\n",
      "\n",
      "**72분 1초 ~ 72분 17초**\n",
      "- [이렇게 하세요] 감기약은 증상에 맞춰서 드세요.\n",
      "\n",
      "**74분 2초 ~ 74분 22초**\n",
      "- [이렇게 하세요] 열이 나면 타이레놀을 드세요.\n",
      "\n",
      "**87분 48초 ~ 88분 26초**\n",
      "- [이렇게 하세요] 고지혈증 약을 오래 복용했다면 코엔자임 큐텐을 보충하세요.\n",
      "\n",
      "**89분 10초 ~ 89분 19초**\n",
      "- [이렇게 하세요] 저녁 식사를 간단히 하고 일찍 주무세요.\n",
      "\n",
      "**92분 8초 ~ 92분 50초**\n",
      "- [이렇게 하세요] 저녁 식사는 탄수화물보다 단백질과 채소 위주로 드세요.\n",
      "\n",
      "**93분 0초 ~ 93분 34초**\n",
      "- [바꾸세요] 술로 인해 잠을 자는 것은 피하세요.\n",
      "\n",
      "**94분 8초 ~ 94분 49초**\n",
      "- [이렇게 하세요] 잠들기 전에는 소음 없이 주무세요.\n",
      "\n",
      "**97분 0초 ~ 97분 11초**\n",
      "- [이렇게 하세요] 주말에는 낮잠을 통해 피로를 푸세요.\n",
      "\n",
      "**98분 21초 ~ 98분 34초**\n",
      "- [이렇게 하세요] 필요에 따라 영양제를 추천받아 드세요.\n",
      "\n",
      "**99분 8초 ~ 99분 17초**\n",
      "- [이렇게 하세요] 상담 후 맞춤형 영양제를 제공받으세요.\n"
     ]
    }
   ],
   "source": [
    "import re\n",
    "# 역할 지정해서 돌려보기\n",
    "#role description\n",
    "#확정은 결과물 가지고 펠로우님이랑 이야기\n",
    "#chunk 늘려보기..\n",
    "prompt = \"\"\"\n",
    "        당신은 전문적인 상담 세션을 분석하고 요약하는 AI입니다. 아래 상담 세션의 전체 스크립트를 주제별로 시간 순서에 따라 요약해 주세요. 다음 지침을 반드시 따르세요:\n",
    "        \n",
    "        1. 각 시간 구간은 **하나의 주요 질문** 또는 **하나의 주요 조언**으로 구성합니다. 하나의 구간에 여러 주제가 섞이지 않도록 주의해 주세요.\n",
    "        2. 각 주제에 대해 시작 시간과 종료 시간을 명시합니다. 시작 시간은 해당 주제가 스크립트에서 처음 등장한 시점, 종료 시간은 마지막으로 등장한 시점을 기준으로 합니다.\n",
    "        3. 각 요약은 다음 형식 중 **하나**로 작성합니다:\n",
    "           - 질문인 경우: **Q.**으로 시작하여 질문 내용을 요약합니다.\n",
    "           - 행동 변경이 필요한 경우: **[바꾸세요]**로 시작하여 변경이 필요한 행동을 요약합니다.\n",
    "           - 권장 사항인 경우: **[이렇게 하세요]**로 시작하여 권장 사항을 요약합니다.\n",
    "        4. 스크립트에는 의약 관련, 생활 습관 등이 아닌 상담과 관련 없는 대화 내용이 일부 포함되어 있습니다. 그런 경우, 주제 산정에서 제외해주세요.\n",
    "\n",
    "\n",
    "        **답변 예시:**\n",
    "        **0분 42초 ~ 3분 15초**\n",
    "        - Q. 오메가3 가 정말 유익한 거 맞나요?\n",
    "        \n",
    "        **5분 0초 ~ 7분 30초**\n",
    "        - [바꾸세요] 당뇨 약은 중단하지 마세요.\n",
    "        \n",
    "        **10분 15초 ~ 12분 45초**\n",
    "        - [이렇게 하세요] 약 복용을 지속하세요.\n",
    "        \n",
    "        **스크립트:**\n",
    "        {text}\n",
    "        \n",
    "        **요약:**\n",
    "\"\"\"\n",
    "\n",
    "human_prompt = PromptTemplate(\n",
    "    input_variables=[],\n",
    "    template=\"요약:\"\n",
    ")\n",
    "\n",
    "\n",
    "rag_chain = RetrievalQA.from_chain_type(\n",
    "            llm=llm,\n",
    "            chain_type=\"stuff\",  # 또는 \"map_reduce\" 등 필요에 따라 변경 가능\n",
    "            retriever=retriever,\n",
    "            return_source_documents=True\n",
    "        )\n",
    "\n",
    "# 전체 스크립트 요약 \n",
    "response = rag_chain({\"query\": prompt.format(text=full_text)})\n",
    "session_summary = response[\"result\"]\n",
    "source_documents = response[\"source_documents\"]\n",
    "\n",
    "print(\"=== Session Summary ===\")\n",
    "print(session_summary)\n",
    "# print(\"\\n=== Source Documents ===\")\n",
    "# for doc in source_documents:\n",
    "#     print(f\"Source: {doc.page_content}\\n\")\n"
   ]
  },
  {
   "cell_type": "code",
   "execution_count": 11,
   "metadata": {
    "colab": {
     "base_uri": "https://localhost:8080/"
    },
    "executionInfo": {
     "elapsed": 17465,
     "status": "ok",
     "timestamp": 1729266175924,
     "user": {
      "displayName": "유지현",
      "userId": "01868051154728111847"
     },
     "user_tz": -540
    },
    "id": "KV1HpymlylqA",
    "outputId": "cfe16ae5-7192-402c-9243-530d32f5b27d"
   },
   "outputs": [
    {
     "name": "stdout",
     "output_type": "stream",
     "text": [
      "[('66분 8초', '66분 42초', 'Q. 고지혈증 약을 끊었는데, 영양제를 먹어야 할까요?\\n'), ('67분 4초', '67분 19초', '[이렇게 하세요] 간 수치가 높지 않다면, 영양제를 드셔도 괜찮습니다.\\n'), ('69분 10초', '69분 15초', '[이렇게 하세요] 피로감이 있다면, 영양제를 드시는 것이 좋습니다.\\n'), ('69분 29초', '70분 40초', 'Q. 병원에서 처방받은 약과 약국에서 구입한 약의 차이는 무엇인가요?\\n'), ('71분 5초', '71분 10초', '[바꾸세요] 감기 초기에 비타민을 섭취하여 면역력을 높이세요.\\n'), ('72분 1초', '72분 17초', '[이렇게 하세요] 감기약은 증상에 맞춰서 드세요.\\n'), ('74분 2초', '74분 22초', '[이렇게 하세요] 열이 나면 타이레놀을 드세요.\\n'), ('87분 48초', '88분 26초', '[이렇게 하세요] 고지혈증 약을 오래 복용했다면 코엔자임 큐텐을 보충하세요.\\n'), ('89분 10초', '89분 19초', '[이렇게 하세요] 저녁 식사를 간단히 하고 일찍 주무세요.\\n'), ('92분 8초', '92분 50초', '[이렇게 하세요] 저녁 식사는 탄수화물보다 단백질과 채소 위주로 드세요.\\n'), ('93분 0초', '93분 34초', '[바꾸세요] 술로 인해 잠을 자는 것은 피하세요.\\n'), ('94분 8초', '94분 49초', '[이렇게 하세요] 잠들기 전에는 소음 없이 주무세요.\\n'), ('97분 0초', '97분 11초', '[이렇게 하세요] 주말에는 낮잠을 통해 피로를 푸세요.\\n'), ('98분 21초', '98분 34초', '[이렇게 하세요] 필요에 따라 영양제를 추천받아 드세요.\\n'), ('99분 8초', '99분 17초', '[이렇게 하세요] 상담 후 맞춤형 영양제를 제공받으세요.')]\n"
     ]
    }
   ],
   "source": [
    "# 출력 파싱, 주제와 시간 정보 추출\n",
    "subtopics = re.findall(r'\\*\\*(\\d+분 \\d+초) ~ (\\d+분 \\d+초)\\*\\*\\n- (.+?)(?=\\n\\*\\*\\d+분|\\Z)', session_summary, re.DOTALL)\n",
    "\n",
    "print(subtopics)\n"
   ]
  },
  {
   "cell_type": "code",
   "execution_count": 13,
   "metadata": {
    "executionInfo": {
     "elapsed": 445,
     "status": "ok",
     "timestamp": 1729266336389,
     "user": {
      "displayName": "유지현",
      "userId": "01868051154728111847"
     },
     "user_tz": -540
    },
    "id": "XlwiQtK1yqwv"
   },
   "outputs": [
    {
     "name": "stderr",
     "output_type": "stream",
     "text": [
      "C:\\Users\\yooji\\AppData\\Local\\Temp\\ipykernel_21116\\3804599114.py:20: LangChainDeprecationWarning: The method `BaseRetriever.get_relevant_documents` was deprecated in langchain-core 0.1.46 and will be removed in 1.0. Use invoke instead.\n",
      "  retrieved_docs = retriever.get_relevant_documents(subtopic)\n",
      "2024-11-08 15:27:57,718 - INFO - HTTP Request: POST https://api.openai.com/v1/embeddings \"HTTP/1.1 200 OK\"\n",
      "2024-11-08 15:27:57,990 - INFO - HTTP Request: POST https://api.openai.com/v1/embeddings \"HTTP/1.1 200 OK\"\n",
      "2024-11-08 15:27:58,475 - INFO - HTTP Request: POST https://api.openai.com/v1/embeddings \"HTTP/1.1 200 OK\"\n",
      "2024-11-08 15:27:58,841 - INFO - HTTP Request: POST https://api.openai.com/v1/embeddings \"HTTP/1.1 200 OK\"\n",
      "2024-11-08 15:27:59,465 - INFO - HTTP Request: POST https://api.openai.com/v1/embeddings \"HTTP/1.1 200 OK\"\n",
      "2024-11-08 15:27:59,955 - INFO - HTTP Request: POST https://api.openai.com/v1/embeddings \"HTTP/1.1 200 OK\"\n",
      "2024-11-08 15:28:00,507 - INFO - HTTP Request: POST https://api.openai.com/v1/embeddings \"HTTP/1.1 200 OK\"\n",
      "2024-11-08 15:28:01,121 - INFO - HTTP Request: POST https://api.openai.com/v1/embeddings \"HTTP/1.1 200 OK\"\n",
      "2024-11-08 15:28:01,430 - INFO - HTTP Request: POST https://api.openai.com/v1/embeddings \"HTTP/1.1 200 OK\"\n",
      "2024-11-08 15:28:01,850 - INFO - HTTP Request: POST https://api.openai.com/v1/embeddings \"HTTP/1.1 200 OK\"\n",
      "2024-11-08 15:28:02,374 - INFO - HTTP Request: POST https://api.openai.com/v1/embeddings \"HTTP/1.1 200 OK\"\n",
      "2024-11-08 15:28:02,936 - INFO - HTTP Request: POST https://api.openai.com/v1/embeddings \"HTTP/1.1 200 OK\"\n",
      "2024-11-08 15:28:03,427 - INFO - HTTP Request: POST https://api.openai.com/v1/embeddings \"HTTP/1.1 200 OK\"\n",
      "2024-11-08 15:28:03,742 - INFO - HTTP Request: POST https://api.openai.com/v1/embeddings \"HTTP/1.1 200 OK\"\n",
      "2024-11-08 15:28:04,040 - INFO - HTTP Request: POST https://api.openai.com/v1/embeddings \"HTTP/1.1 200 OK\"\n"
     ]
    },
    {
     "name": "stdout",
     "output_type": "stream",
     "text": [
      "[{'topic_id': 1, 'start_time': '66분 8초', 'end_time': '66분 42초', 'content': 'Q. 고지혈증 약을 끊었는데, 영양제를 먹어야 할까요?', 'related_scripts': [{'time': '66분 8초', 'content': '예, 보내주신 거는 미리 읽어보고 아는데요, 고지혈증 약만 드시고 계신 거죠.'}]}, {'topic_id': 2, 'start_time': '67분 4초', 'end_time': '67분 19초', 'content': '[이렇게 하세요] 간 수치가 높지 않다면, 영양제를 드셔도 괜찮습니다.', 'related_scripts': []}, {'topic_id': 3, 'start_time': '69분 10초', 'end_time': '69분 15초', 'content': '[이렇게 하세요] 피로감이 있다면, 영양제를 드시는 것이 좋습니다.', 'related_scripts': []}, {'topic_id': 4, 'start_time': '69분 29초', 'end_time': '70분 40초', 'content': 'Q. 병원에서 처방받은 약과 약국에서 구입한 약의 차이는 무엇인가요?', 'related_scripts': [{'time': '69분 54초', 'content': '근데 감기로만 비교를 하면 이제 그 약국에서 쓰는 약이나 병원, 약이나 차이는 그 한 가지예요.'}, {'time': '70분 28초', 'content': '예, 비슷한데 좀 그런 게 있고, 또 하나 차이는 병원에 가면 일단 직접 소독이 되잖아요.'}, {'time': '70분 21초', 'content': '되 그렇죠. 약 성분은 약국에서 그냥 파는 약이나 나머지 감기 뭐 콧물약은 비슷해요.'}, {'time': '69분 29초', 'content': '지금도 이제 간 게 기억 있는데 그냥 약국 가서 처약만 먹고 하거든요. 선생님, 근데 이게 병원에 가서 처방받는 게 나아요.'}]}, {'topic_id': 5, 'start_time': '71분 5초', 'end_time': '71분 10초', 'content': '[바꾸세요] 감기 초기에 비타민을 섭취하여 면역력을 높이세요.', 'related_scripts': []}, {'topic_id': 6, 'start_time': '72분 1초', 'end_time': '72분 17초', 'content': '[이렇게 하세요] 감기약은 증상에 맞춰서 드세요.', 'related_scripts': []}, {'topic_id': 7, 'start_time': '74분 2초', 'end_time': '74분 22초', 'content': '[이렇게 하세요] 열이 나면 타이레놀을 드세요.', 'related_scripts': [{'time': '74분 2초', 'content': '목이 부으니까 여기에 이제 임파선 같은 게 많이 있는데, 그런 림프 쪽으로 그런 그 백혈구나 림프 숫자가 급격히 늘어나면 열이 나고 에.'}, {'time': '74분 13초', 'content': '그게 사실 방어막을 부축하는 과정에서 열이 생기는 건데, 열이 나면 우리는 그 체온이 올라가면 사람이 되게 약해져요.'}]}, {'topic_id': 8, 'start_time': '87분 48초', 'end_time': '88분 26초', 'content': '[이렇게 하세요] 고지혈증 약을 오래 복용했다면 코엔자임 큐텐을 보충하세요.', 'related_scripts': [{'time': '87분 57초', 'content': '왜냐하면 또 고지혈증 약 오래 드셨으면 고 조혈증 약이 몸에서 대사될 때 이 코인자임 큐텐을 많이 소비해요.'}]}, {'topic_id': 9, 'start_time': '89분 10초', 'end_time': '89분 19초', 'content': '[이렇게 하세요] 저녁 식사를 간단히 하고 일찍 주무세요.', 'related_scripts': []}, {'topic_id': 10, 'start_time': '92분 8초', 'end_time': '92분 50초', 'content': '[이렇게 하세요] 저녁 식사는 탄수화물보다 단백질과 채소 위주로 드세요.', 'related_scripts': [{'time': '92분 8초', 'content': '예를 들어 이제 저녁에 약속이 있거나 해서 조금 더 탄수화물 위주의 식사를 한다.'}, {'time': '92분 37초', 'content': '그래서 저녁은 조금 더 고기나 채식 고기 채식으로 좀 더 가시면요.'}, {'time': '92분 28초', 'content': '그래서 전 바로 전 식사가 조금 곧 탄수화물일 때 조금 더 수면의 질이 낮아지기도 하거든요.'}]}, {'topic_id': 11, 'start_time': '93분 0초', 'end_time': '93분 34초', 'content': '[바꾸세요] 술로 인해 잠을 자는 것은 피하세요.', 'related_scripts': [{'time': '93분 11초', 'content': '그게 이제 깊은 수면으로는 못 들어가는데 잠이 들게 하는 수면 맞취 효과는 술이 확실히 있어요.'}, {'time': '93분 6초', 'content': '그랬는데 피곤한 거에다 술까지 들어가서 그냥 푹 술어도 자서 그러 건가.'}]}, {'topic_id': 12, 'start_time': '94분 8초', 'end_time': '94분 49초', 'content': '[이렇게 하세요] 잠들기 전에는 소음 없이 주무세요.', 'related_scripts': []}, {'topic_id': 13, 'start_time': '97분 0초', 'end_time': '97분 11초', 'content': '[이렇게 하세요] 주말에는 낮잠을 통해 피로를 푸세요.', 'related_scripts': [{'time': '97분 0초', 'content': '낮에 잘 수 있는 연건은 안 되니까. 약간은 좀 피곤한 상태가 조금 있는 게 아닌가 그런 거죠. 나구로 버티는 거죠.'}]}, {'topic_id': 14, 'start_time': '98분 21초', 'end_time': '98분 34초', 'content': '[이렇게 하세요] 필요에 따라 영양제를 추천받아 드세요.', 'related_scripts': [{'time': '98분 21초', 'content': '예, 저의 철학으로는 사실 약으로만 자꾸 건강관리하는 게 별로 안 좋다 생각이 들어서 저는 이렇게 상담 중에 영양제 필요하신 분 추천드리고.'}]}, {'topic_id': 15, 'start_time': '99분 8초', 'end_time': '99분 17초', 'content': '[이렇게 하세요] 상담 후 맞춤형 영양제를 제공받으세요.', 'related_scripts': []}]\n"
     ]
    }
   ],
   "source": [
    "def time_str_to_ms(time_str):\n",
    "    match = re.match(r'(\\d+)분 (\\d+)초', time_str)\n",
    "    if match:\n",
    "        minutes = int(match.group(1))\n",
    "        seconds = int(match.group(2))\n",
    "        return (minutes * 60 + seconds) * 1000\n",
    "    else:\n",
    "        logging.warning(f\"시간 형식이 일치하지 않습니다: {time_str}\")\n",
    "        return 0\n",
    "    \n",
    "json_results = []\n",
    "        \n",
    "        # 주제별 루프 처리\n",
    "for idx, (start_time_str, end_time_str, content) in enumerate(subtopics, 1):\n",
    "    subtopic = content.strip()\n",
    "    start_time_ms = time_str_to_ms(start_time_str)\n",
    "    end_time_ms = time_str_to_ms(end_time_str)\n",
    "    \n",
    "    # 해당 시간 범위 내에서 retrieve\n",
    "    retrieved_docs = retriever.get_relevant_documents(subtopic)\n",
    "    \n",
    "    relevant_docs = [\n",
    "        doc for doc in retrieved_docs\n",
    "        if start_time_ms <= doc.metadata['start_at'] <= end_time_ms\n",
    "    ]\n",
    "    \n",
    "    # 관련 스크립트 생성\n",
    "    related_scripts = [\n",
    "        {\n",
    "            \"time\": ms_to_minutes_seconds_str(doc.metadata['start_at']),\n",
    "            \"content\": doc.page_content\n",
    "        } for doc in relevant_docs\n",
    "    ]\n",
    "    \n",
    "    # 주제별 데이터를 딕셔너리로 저장\n",
    "    json_result = {\n",
    "        \"topic_id\": idx,\n",
    "        \"start_time\": start_time_str,\n",
    "        \"end_time\": end_time_str,\n",
    "        \"content\": subtopic,\n",
    "        \"related_scripts\": related_scripts\n",
    "    }\n",
    "    json_results.append(json_result)\n",
    "print(json_results)"
   ]
  },
  {
   "cell_type": "code",
   "execution_count": 14,
   "metadata": {
    "executionInfo": {
     "elapsed": 2,
     "status": "ok",
     "timestamp": 1729263116942,
     "user": {
      "displayName": "유지현",
      "userId": "01868051154728111847"
     },
     "user_tz": -540
    },
    "id": "oYmGvikNBGI1"
   },
   "outputs": [
    {
     "name": "stdout",
     "output_type": "stream",
     "text": [
      "{'topic_id': 1, 'start_time': '66분 8초', 'end_time': '66분 42초', 'content': 'Q. 고지혈증 약을 끊었는데, 영양제를 먹어야 할까요?', 'related_scripts': [{'time': '66분 8초', 'content': '예, 보내주신 거는 미리 읽어보고 아는데요, 고지혈증 약만 드시고 계신 거죠.'}]}\n"
     ]
    }
   ],
   "source": [
    "print(json_results[0])"
   ]
  },
  {
   "cell_type": "code",
   "execution_count": 15,
   "metadata": {},
   "outputs": [
    {
     "name": "stdout",
     "output_type": "stream",
     "text": [
      "JSON results saved to json_results.json\n"
     ]
    }
   ],
   "source": [
    "output_filename = 'json_results.json'\n",
    "\n",
    "# Write json_results to a JSON file\n",
    "with open(output_filename, 'w', encoding='utf-8') as f:\n",
    "    json.dump(json_results, f, ensure_ascii=False, indent=4)\n",
    "\n",
    "print(f\"JSON results saved to {output_filename}\")"
   ]
  },
  {
   "cell_type": "markdown",
   "metadata": {},
   "source": [
    "Next steps:\n",
    "\n",
    "to create docker and upload to lambda,\n",
    " docker buildx use mybuilder2\n",
    "docker buildx build --platform linux/amd64 --load -t tenten_ai_topic .\n",
    "docker tag tenten_ai_topic:latest 820604767531.dkr.ecr.ap-northeast-2.amazonaws.com/tenten_ai_topic:latest\n",
    "docker push 820604767531.dkr.ecr.ap-northeast-2.amazonaws.com/tenten_ai_topic:latest"
   ]
  },
  {
   "cell_type": "code",
   "execution_count": null,
   "metadata": {},
   "outputs": [],
   "source": [
    "If you use docker buildx, make sure to reuse the builder instance rather than creating a new one every time:\n",
    "bash\n",
    "Copy code\n",
    "# Create the builder only once\n",
    "docker buildx create --use --name mybuilder\n",
    "Then, you can use the existing builder for subsequent builds:\n",
    "bash\n",
    "Copy code\n",
    "docker buildx use mybuilder\n",
    "docker buildx build --platform linux/amd64 --load -t tenten_ai_topic .\n"
   ]
  },
  {
   "cell_type": "code",
   "execution_count": null,
   "metadata": {},
   "outputs": [],
   "source": []
  },
  {
   "cell_type": "code",
   "execution_count": null,
   "metadata": {},
   "outputs": [],
   "source": []
  }
 ],
 "metadata": {
  "colab": {
   "authorship_tag": "ABX9TyMlVtXg7g26PnU+AN2HzD4u",
   "mount_file_id": "1gNrx_IpjBAg8HPBr_yztv8Cf-z5E8vqN",
   "provenance": []
  },
  "kernelspec": {
   "display_name": "CV용 Kernel",
   "language": "python",
   "name": "cs484_hw"
  },
  "language_info": {
   "codemirror_mode": {
    "name": "ipython",
    "version": 3
   },
   "file_extension": ".py",
   "mimetype": "text/x-python",
   "name": "python",
   "nbconvert_exporter": "python",
   "pygments_lexer": "ipython3",
   "version": "3.8.19"
  }
 },
 "nbformat": 4,
 "nbformat_minor": 0
}
